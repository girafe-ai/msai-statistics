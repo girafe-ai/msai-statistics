{
 "cells": [
  {
   "cell_type": "markdown",
   "metadata": {},
   "source": [
    "# Week 2\n",
    "Required imports:"
   ]
  },
  {
   "cell_type": "code",
   "execution_count": 13,
   "metadata": {},
   "outputs": [],
   "source": [
    "import numpy as np\n",
    "import pandas as pd\n",
    "import matplotlib.pyplot as plt\n",
    "import scipy"
   ]
  },
  {
   "cell_type": "markdown",
   "metadata": {},
   "source": [
    "## Applying Bayes' theorem – the Naïve Bayes classifyer\n",
    "\n",
    "One simple, yet powerful method to solve **classification problems** is what's called the Naïve Bayes classifyer, and today we're going to figure out how it works.\n",
    "\n",
    "Suppose that we have a set of **training data** to teach the classifyer from – these are observations of the following form:\n",
    "\n",
    "$$\\textrm{Observed object}= (x_1,x_2,...,C)$$\n",
    "\n",
    "where $\\mathbf{x}=(x_1,x_2,...,x_n)$ are some **parameters** that we can measure, and $C$ is the value of the **class** that this observed object belongs to – say, there are $K$ classes to choose from, so \n",
    "\n",
    "$$C\\in{1,2,...,K}$$\n",
    "\n",
    "is a discrete variable that simply **labels** the object with the number of the class it belongs to.\n",
    "\n",
    "Now, if we observe a new object, we have to decide the value of $C$, based on the values of $x_i$-s, its parameters – so we are solving a **classification problem.**\n",
    "\n",
    "Using Bayes' theorem, we can express the conditional probabilities from one another:\n",
    "\n",
    "$$p(C|\\mathbf{x}) = \\frac{p(C)p(\\mathbf{x}|C)}{p(\\mathbf{x})}$$\n",
    "\n",
    "or, to name it in Bayesian probability terms,\n",
    "\n",
    "$$\\textrm{posterior} = \\frac{\\textrm{prior}\\times\\textrm{likelihood}}{\\textrm{evidence}}$$\n",
    "\n",
    "_(this mnemonic formula is good to remember)_\n",
    "\n",
    "Notice that in the above formula, the denominator (the evidence), $p(\\mathbf{x})$ **does not depend on $C$**! So, since our task is to **infer** $C$ from given observed parameters, $\\mathbf{x}$, varying the value of $C$ does not change the denominator – so effectively we're **only interested in the numerator**.\n",
    "\n",
    "The posterior, $p(\\mathbf{x}|C)$, can turned into a product of conditional probabilities, using the **chain rule**:\n",
    "\n",
    "$$p(\\mathbf{x}|C)=p(x_1,x_2,...|C)=p(x_1|x_2,x_3...,C)\\cdot p(x_2|x_3,...,C)...p(x_{n-1}|x_n,C)\\cdot p(x_n|C)$$\n",
    "\n",
    "This is true in the most general case, no matter what. The key **assumption** that we're going to make is that the **parameters are independent random variables** \n",
    "\n",
    "$$p(x_1|x_2,x_3...,C)=p(x_1|C),\\quad p(x_2|x_3,...,C)=p(x_2|C),\\quad...$$\n",
    "\n",
    "_(this is the limitation of NBC, and this is why it has \"Naïve\" in its name)_ – which is a very strong assumption! But from it, it follows that all the $x$-s after the condition line, $|$, can be now neglected, and the posterior is **just a product** of individual posteriors of the parameters:\n",
    "\n",
    "$$p(\\mathbf{x}|C)=\\prod_{i=1}^N p(x_i|C).$$\n",
    "\n",
    "Now, to **predict** (infer) the class of the observed object, one idea is to **maximise**\n",
    "\n",
    "$$\\tilde{C}=\\underset{C\\in{1,2,...,K}}{\\text{arg max }} p(C|\\mathbf{x})$$\n",
    "\n",
    "and, since the **denominator does not depend on $C$,** we should just maximise the numerator\n",
    "\n",
    "$$\\tilde{C}=\\underset{C\\in{1,2,...,K}}{\\text{arg max }}\\left( p(C)\\prod_{i=1}^N p(x_i|C)\\right).$$\n",
    "\n",
    "To do that, one should also know the **prior** probability distribution of the **classes**, $p(C)$. In many practical cases, this can be also chosen from the common sense.\n",
    "\n",
    "### Example: Gaussian NBC\n",
    "\n",
    "Here's some data on the height, weight and foot size for a group of people:"
   ]
  },
  {
   "cell_type": "code",
   "execution_count": 5,
   "metadata": {},
   "outputs": [],
   "source": [
    "df = pd.DataFrame.from_dict({'person':['female','female','female','female','male','male','male','male'], \n",
    "                        'height':[5, 5.5, 5.42, 5.75, 6, 5.92, 5.58, 5.92], \n",
    "                        'weight':[100, 150, 130, 150, 180, 190, 170, 165], \n",
    "                        'foot_size':[6,8,7,9,12,11,12,10]})"
   ]
  },
  {
   "cell_type": "code",
   "execution_count": 6,
   "metadata": {},
   "outputs": [
    {
     "data": {
      "text/html": [
       "<div>\n",
       "<style scoped>\n",
       "    .dataframe tbody tr th:only-of-type {\n",
       "        vertical-align: middle;\n",
       "    }\n",
       "\n",
       "    .dataframe tbody tr th {\n",
       "        vertical-align: top;\n",
       "    }\n",
       "\n",
       "    .dataframe thead th {\n",
       "        text-align: right;\n",
       "    }\n",
       "</style>\n",
       "<table border=\"1\" class=\"dataframe\">\n",
       "  <thead>\n",
       "    <tr style=\"text-align: right;\">\n",
       "      <th></th>\n",
       "      <th>person</th>\n",
       "      <th>height</th>\n",
       "      <th>weight</th>\n",
       "      <th>foot_size</th>\n",
       "    </tr>\n",
       "  </thead>\n",
       "  <tbody>\n",
       "    <tr>\n",
       "      <th>0</th>\n",
       "      <td>female</td>\n",
       "      <td>5.00</td>\n",
       "      <td>100</td>\n",
       "      <td>6</td>\n",
       "    </tr>\n",
       "    <tr>\n",
       "      <th>1</th>\n",
       "      <td>female</td>\n",
       "      <td>5.50</td>\n",
       "      <td>150</td>\n",
       "      <td>8</td>\n",
       "    </tr>\n",
       "    <tr>\n",
       "      <th>2</th>\n",
       "      <td>female</td>\n",
       "      <td>5.42</td>\n",
       "      <td>130</td>\n",
       "      <td>7</td>\n",
       "    </tr>\n",
       "    <tr>\n",
       "      <th>3</th>\n",
       "      <td>female</td>\n",
       "      <td>5.75</td>\n",
       "      <td>150</td>\n",
       "      <td>9</td>\n",
       "    </tr>\n",
       "    <tr>\n",
       "      <th>4</th>\n",
       "      <td>male</td>\n",
       "      <td>6.00</td>\n",
       "      <td>180</td>\n",
       "      <td>12</td>\n",
       "    </tr>\n",
       "    <tr>\n",
       "      <th>5</th>\n",
       "      <td>male</td>\n",
       "      <td>5.92</td>\n",
       "      <td>190</td>\n",
       "      <td>11</td>\n",
       "    </tr>\n",
       "    <tr>\n",
       "      <th>6</th>\n",
       "      <td>male</td>\n",
       "      <td>5.58</td>\n",
       "      <td>170</td>\n",
       "      <td>12</td>\n",
       "    </tr>\n",
       "    <tr>\n",
       "      <th>7</th>\n",
       "      <td>male</td>\n",
       "      <td>5.92</td>\n",
       "      <td>165</td>\n",
       "      <td>10</td>\n",
       "    </tr>\n",
       "  </tbody>\n",
       "</table>\n",
       "</div>"
      ],
      "text/plain": [
       "   person  height  weight  foot_size\n",
       "0  female    5.00     100          6\n",
       "1  female    5.50     150          8\n",
       "2  female    5.42     130          7\n",
       "3  female    5.75     150          9\n",
       "4    male    6.00     180         12\n",
       "5    male    5.92     190         11\n",
       "6    male    5.58     170         12\n",
       "7    male    5.92     165         10"
      ]
     },
     "execution_count": 6,
     "metadata": {},
     "output_type": "execute_result"
    }
   ],
   "source": [
    "df"
   ]
  },
  {
   "cell_type": "markdown",
   "metadata": {},
   "source": [
    "And here's a sample (c for classify) that we should classify:"
   ]
  },
  {
   "cell_type": "code",
   "execution_count": 40,
   "metadata": {},
   "outputs": [],
   "source": [
    "sample = {'height': 6, 'weight': 130, 'foot_size': 8}"
   ]
  },
  {
   "cell_type": "markdown",
   "metadata": {},
   "source": [
    "**Task** is to compute the likelihoods of the sample being a male or a female, and to compare them!\n",
    "\n",
    "_Hint: for that, here's the function that computes the pdf of a normal distribution with $\\mu = 0$ (zero mean), $\\sigma = 1$ (std = 1) at $x=0.3$:_"
   ]
  },
  {
   "cell_type": "code",
   "execution_count": 15,
   "metadata": {},
   "outputs": [],
   "source": [
    "from scipy.stats import norm"
   ]
  },
  {
   "cell_type": "code",
   "execution_count": 19,
   "metadata": {},
   "outputs": [
    {
     "data": {
      "text/plain": [
       "0.38138781546052414"
      ]
     },
     "execution_count": 19,
     "metadata": {},
     "output_type": "execute_result"
    }
   ],
   "source": [
    "norm(0, 1).pdf(0.3)"
   ]
  },
  {
   "cell_type": "markdown",
   "metadata": {},
   "source": [
    "Let's get the averages and the stds:"
   ]
  },
  {
   "cell_type": "code",
   "execution_count": 37,
   "metadata": {},
   "outputs": [
    {
     "data": {
      "text/html": [
       "<div>\n",
       "<style scoped>\n",
       "    .dataframe tbody tr th:only-of-type {\n",
       "        vertical-align: middle;\n",
       "    }\n",
       "\n",
       "    .dataframe tbody tr th {\n",
       "        vertical-align: top;\n",
       "    }\n",
       "\n",
       "    .dataframe thead th {\n",
       "        text-align: right;\n",
       "    }\n",
       "</style>\n",
       "<table border=\"1\" class=\"dataframe\">\n",
       "  <thead>\n",
       "    <tr style=\"text-align: right;\">\n",
       "      <th></th>\n",
       "      <th>person</th>\n",
       "      <th>height</th>\n",
       "      <th>weight</th>\n",
       "      <th>foot_size</th>\n",
       "    </tr>\n",
       "  </thead>\n",
       "  <tbody>\n",
       "    <tr>\n",
       "      <th>0</th>\n",
       "      <td>female</td>\n",
       "      <td>5.4175</td>\n",
       "      <td>132.50</td>\n",
       "      <td>7.50</td>\n",
       "    </tr>\n",
       "    <tr>\n",
       "      <th>1</th>\n",
       "      <td>male</td>\n",
       "      <td>5.8550</td>\n",
       "      <td>176.25</td>\n",
       "      <td>11.25</td>\n",
       "    </tr>\n",
       "  </tbody>\n",
       "</table>\n",
       "</div>"
      ],
      "text/plain": [
       "   person  height  weight  foot_size\n",
       "0  female  5.4175  132.50       7.50\n",
       "1    male  5.8550  176.25      11.25"
      ]
     },
     "execution_count": 37,
     "metadata": {},
     "output_type": "execute_result"
    }
   ],
   "source": [
    "means = df.groupby(['person']).mean().reset_index()\n",
    "\n",
    "means"
   ]
  },
  {
   "cell_type": "code",
   "execution_count": 38,
   "metadata": {},
   "outputs": [
    {
     "data": {
      "text/html": [
       "<div>\n",
       "<style scoped>\n",
       "    .dataframe tbody tr th:only-of-type {\n",
       "        vertical-align: middle;\n",
       "    }\n",
       "\n",
       "    .dataframe tbody tr th {\n",
       "        vertical-align: top;\n",
       "    }\n",
       "\n",
       "    .dataframe thead th {\n",
       "        text-align: right;\n",
       "    }\n",
       "</style>\n",
       "<table border=\"1\" class=\"dataframe\">\n",
       "  <thead>\n",
       "    <tr style=\"text-align: right;\">\n",
       "      <th></th>\n",
       "      <th>person</th>\n",
       "      <th>height</th>\n",
       "      <th>weight</th>\n",
       "      <th>foot_size</th>\n",
       "    </tr>\n",
       "  </thead>\n",
       "  <tbody>\n",
       "    <tr>\n",
       "      <th>0</th>\n",
       "      <td>female</td>\n",
       "      <td>0.311809</td>\n",
       "      <td>23.629078</td>\n",
       "      <td>1.290994</td>\n",
       "    </tr>\n",
       "    <tr>\n",
       "      <th>1</th>\n",
       "      <td>male</td>\n",
       "      <td>0.187172</td>\n",
       "      <td>11.086779</td>\n",
       "      <td>0.957427</td>\n",
       "    </tr>\n",
       "  </tbody>\n",
       "</table>\n",
       "</div>"
      ],
      "text/plain": [
       "   person    height     weight  foot_size\n",
       "0  female  0.311809  23.629078   1.290994\n",
       "1    male  0.187172  11.086779   0.957427"
      ]
     },
     "execution_count": 38,
     "metadata": {},
     "output_type": "execute_result"
    }
   ],
   "source": [
    "stds = df.groupby(['person']).std().reset_index()\n",
    "\n",
    "stds"
   ]
  },
  {
   "cell_type": "code",
   "execution_count": 43,
   "metadata": {},
   "outputs": [
    {
     "name": "stdout",
     "output_type": "stream",
     "text": [
      "male likelihood =  [1.23941437e-08]\n",
      "female likelihood =  [0.00107558]\n"
     ]
    }
   ],
   "source": [
    "for pers in ['male', 'female']:\n",
    "    # set the likelihood to 1 at first\n",
    "    li = 1.\n",
    "    \n",
    "    for param in ['height', 'weight', 'foot_size']:\n",
    "        mean = means[means.person==pers][param]\n",
    "        std = stds[stds.person==pers][param]\n",
    "        x = sample[param]\n",
    "        li *= norm(mean, std).pdf(x)\n",
    "        \n",
    "    print(pers,'likelihood = ', li)"
   ]
  },
  {
   "cell_type": "code",
   "execution_count": null,
   "metadata": {},
   "outputs": [],
   "source": []
  }
 ],
 "metadata": {
  "kernelspec": {
   "display_name": "Python 3",
   "language": "python",
   "name": "python3"
  },
  "language_info": {
   "codemirror_mode": {
    "name": "ipython",
    "version": 3
   },
   "file_extension": ".py",
   "mimetype": "text/x-python",
   "name": "python",
   "nbconvert_exporter": "python",
   "pygments_lexer": "ipython3",
   "version": "3.7.3"
  }
 },
 "nbformat": 4,
 "nbformat_minor": 2
}
