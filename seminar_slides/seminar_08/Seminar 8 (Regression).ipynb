{
 "cells": [
  {
   "cell_type": "markdown",
   "id": "civil-haven",
   "metadata": {
    "slideshow": {
     "slide_type": "slide"
    }
   },
   "source": [
    "# Regression"
   ]
  },
  {
   "cell_type": "markdown",
   "id": "british-kidney",
   "metadata": {
    "slideshow": {
     "slide_type": "slide"
    }
   },
   "source": [
    "## Regression: definition\n",
    "\n",
    "Consider random vector $(\\xi, \\eta)$ and its realization $(y, x)$. The conditional probability for $y$ is then\n",
    "$$\n",
    "p_{\\xi}(y|x) = \\frac{p_{\\xi\\eta}(y, x)}{p_{\\eta}(x)}\n",
    "$$\n",
    "\n",
    "If $y$ and $x$ are independent, we don't get any new information. If they are dependent, we get that $\\xi$ is dependent on $x$ via **regression function**:\n",
    "$$\n",
    "\\mathbb{E}[\\xi|\\eta=x] = \\int y p_{\\xi}(y|\\eta=x) \\rm{d} y = r(x)\n",
    "$$\n",
    "\n",
    "The dependency of $\\xi$ on $\\eta$ is called **regression** of $\\xi$ on $\\eta$."
   ]
  },
  {
   "cell_type": "markdown",
   "id": "sorted-surfing",
   "metadata": {
    "slideshow": {
     "slide_type": "slide"
    }
   },
   "source": [
    "## Regression: example\n",
    "\n",
    "Let\n",
    "$$\n",
    "(\\xi, \\eta) \\sim \\mathcal{N}\\left(\n",
    "\\begin{bmatrix}\n",
    "m_1 \\\\ m_2\n",
    "\\end{bmatrix},\n",
    "\\begin{bmatrix}\n",
    "\\sigma_1^2 & \\rho \\sigma_1 \\sigma_2 \\\\\n",
    "\\rho \\sigma_1 \\sigma_2 & \\sigma_2^2 \\\\\n",
    "\\end{bmatrix}\n",
    "\\right)\n",
    "$$\n",
    "\n",
    "Then\n",
    "$$\n",
    "r(x) = m_1 + \\rho (x - m_2) \\frac{\\sigma_1}{\\sigma_2} = \\theta_1 + \\theta_2 x\n",
    "$$\n",
    "\n",
    "It is a **linear function**."
   ]
  },
  {
   "cell_type": "markdown",
   "id": "polyphonic-equipment",
   "metadata": {
    "slideshow": {
     "slide_type": "slide"
    }
   },
   "source": [
    "## Linear regression: definition\n",
    "\n",
    "Let $x$ be $k$-dimensional and $y$ be unidimensional. Then, consider the following **model**, called **Linear Parametric Assumption**:\n",
    "$$\n",
    "y_j = \\theta^\\top x_j + \\varepsilon_j,\n",
    "$$\n",
    "where $\\theta = (\\theta_1, \\ldots, \\theta_k)$ and\n",
    "$$\n",
    "\\begin{aligned}\n",
    "\\mathbb{E}[\\varepsilon_j] & = 0 & , \\forall j, \\\\\n",
    "\\mathbb{V}\\rm{ar}(\\varepsilon_j) & = \\sigma^2 & , \\forall j, \\\\\n",
    "\\rm{cov}(\\varepsilon_i, \\varepsilon_j) & = 0 & , i \\neq j.\n",
    "\\end{aligned}\n",
    "$$\n",
    "\n",
    "These assumptions are strong and may be violated. If $\\rm{cov}(\\varepsilon_i, \\varepsilon_j) \\neq 0, i \\neq j$, we say that we are dealing with **misspecified noise**. The estimate that we will derive will still be unbiased but not optimal.\n",
    "\n",
    "Denote $Y = (y_1, \\ldots, y_n), X = (x_1, \\ldots, x_n), \\varepsilon = (\\varepsilon_1, \\ldots, \\varepsilon_n)$. Then,\n",
    "$$\n",
    "Y = X \\theta + \\varepsilon\n",
    "$$"
   ]
  },
  {
   "cell_type": "markdown",
   "id": "descending-aircraft",
   "metadata": {
    "slideshow": {
     "slide_type": "slide"
    }
   },
   "source": [
    "## Linear regression: derivation\n",
    "\n",
    "$$\n",
    "Y = X \\theta + \\varepsilon\n",
    "$$\n",
    "\n",
    "We will look for an unbiased estimate of $\\theta$ of lowest variance in the following form:\n",
    "$$\n",
    "\\begin{aligned}\n",
    "\\hat{\\theta} & = B Y, \\\\\n",
    "\\mathbb{E}[\\hat{\\theta}] & = \\theta, \\\\\n",
    "B X & = E\n",
    "\\end{aligned}\n",
    "$$\n",
    "\n",
    "The task is to find:\n",
    "$$\n",
    "\\begin{cases}\n",
    "\\mathbb{V}\\rm{ar}(\\hat{\\theta}) \\to \\min \\\\\n",
    "\\text{s.t. } B X = E\n",
    "\\end{cases}\n",
    "$$\n",
    "\n",
    "The variance is:\n",
    "$$\n",
    "\\begin{aligned}\n",
    "\\mathbb{V}\\rm{ar}(\\hat{\\theta}_i) & = \\mathbb{E}\\left[ \\left( b_i^\\top Y - b_i^\\top X \\theta \\right)^2 \\right] = \\mathbb{E}\\left[ \\left( b_i^\\top Y - b_i^\\top X \\theta \\right) \\left( b_i^\\top Y - b_i^\\top X \\theta \\right)^\\top \\right] = \\\\\n",
    "& = \\mathbb{E}\\left[ b_i^\\top \\left( Y - X \\theta \\right) \\left( Y - X \\theta \\right)^\\top b_i \\right] = \\mathbb{E}\\left[ b_i^\\top \\varepsilon \\varepsilon^\\top b_i \\right] = b_i^\\top \\mathbb{E}\\left[\\varepsilon \\varepsilon^\\top \\right] b_i = \\\\\n",
    "& = b_i^\\top \\sigma^2 E b_i = \\sigma^2 b_i^\\top b_i\n",
    "\\end{aligned}\n",
    "$$"
   ]
  },
  {
   "cell_type": "markdown",
   "id": "monthly-smooth",
   "metadata": {
    "slideshow": {
     "slide_type": "slide"
    }
   },
   "source": [
    "## Linear regression: derivation\n",
    "\n",
    "The task is to find:\n",
    "$$\n",
    "\\begin{cases}\n",
    "\\mathbb{V}\\rm{ar}(\\hat{\\theta}) \\to \\min \\\\\n",
    "\\text{s.t. } B X = E\n",
    "\\end{cases}\n",
    "$$\n",
    "\n",
    "The variance is $\\mathbb{V}\\rm{ar}(\\hat{\\theta}_i) = \\sigma^2 b_i^\\top b_i$. Using Lagrangian method with Lagrangian multipliers $\\Lambda_i = (\\lambda_{i1}, \\ldots, \\lambda_{ik})$, we need to solve:\n",
    "$$\n",
    "\\mathcal{L} = b_i^\\top b_i + \\Lambda_i (X^\\top b_i - e_i) \\to \\min_{b_i}\n",
    "$$\n",
    "$$\n",
    "\\frac{\\partial \\mathcal{L}}{\\partial b_i} = 2 b_i + X \\Lambda_i = 0\n",
    "$$\n",
    "\n",
    "Therefore,\n",
    "$$\n",
    "\\begin{cases}\n",
    "B = - \\frac12 \\Lambda X^\\top, \\\\\n",
    "\\Lambda = -2 \\left( X^\\top X \\right)^{-1}\n",
    "\\end{cases}\n",
    "$$\n",
    "\n",
    "Finally,\n",
    "$$\n",
    "\\hat{\\theta} = B Y = \\left( X^\\top X \\right)^{-1} X^\\top Y\n",
    "$$"
   ]
  },
  {
   "cell_type": "markdown",
   "id": "efficient-preference",
   "metadata": {
    "slideshow": {
     "slide_type": "slide"
    }
   },
   "source": [
    "## Linear regression: RSS\n",
    "\n",
    "LSE is unbiased and optimal in class of linear estimates.\n",
    "$$\n",
    "\\begin{aligned}\n",
    "S & = \\varepsilon^\\top \\varepsilon = (Y - X \\theta)^\\top (Y - X \\theta) = (Y - \\hat{Y} + \\hat{Y} - X \\theta)^\\top (Y - \\hat{Y} + \\hat{Y} - X \\theta) = \\\\\n",
    "& = (Y - \\hat{Y})^\\top (Y - \\hat{Y}) + 2 \\underbrace{(Y - \\hat{Y})^\\top (Y - X \\theta)}_{0} + (\\hat{Y} - X \\theta)^\\top (\\hat{Y} - X \\theta) = \\\\\n",
    "& = S_1 + S_2\n",
    "\\end{aligned}\n",
    "$$\n",
    "\n",
    "- $S_1$ is the residual sum of squares\n",
    "- $S_2$ is the sum of squared associated with uncertainty in estimated parameters\n",
    "$$\n",
    "\\mathbb{E}[S] = \\mathbb{E}[\\varepsilon^\\top \\varepsilon] = \\mathbb{E}[\\rm{tr} \\left( \\varepsilon^\\top \\varepsilon \\right) ] = \\rm{tr} \\left( \\mathbb{E}[\\varepsilon^\\top \\varepsilon ]\\right) = n \\sigma^2\n",
    "$$\n",
    "$$\n",
    "\\mathbb{E}[S_2] = k \\sigma^2\n",
    "$$\n",
    "\n",
    "Therefore,\n",
    "$$\n",
    "\\mathbb{E}[S_1] = (n-k) \\sigma^2\n",
    "$$\n",
    "\n",
    "Finally,\n",
    "$$\n",
    "\\hat{\\sigma}^2 = \\frac{\\mathbb{E}[(Y - \\hat{Y})^\\top (Y - \\hat{Y})]}{n-k}\n",
    "$$"
   ]
  },
  {
   "cell_type": "markdown",
   "id": "opened-august",
   "metadata": {
    "slideshow": {
     "slide_type": "slide"
    }
   },
   "source": [
    "## Linear regression: RSS\n",
    "\n",
    "If $\\varepsilon \\sim \\mathcal{N}(0, \\sigma^2 E)$, then\n",
    "- $Y \\sim \\mathcal{N}(X\\theta, \\sigma^2E)$\n",
    "- $\\hat{\\theta} \\sim \\mathcal{N}(\\theta, \\sigma^2 (X^\\top X)^{-1})$\n",
    "\n",
    "Then,\n",
    "$$\n",
    "\\frac{S}{\\sigma^2} \\sim \\chi^2(n)\n",
    "$$\n",
    "\n",
    "And, given that $S_1$ and $S_2$ are independent, we have:\n",
    "$$\n",
    "\\frac{S_1}{\\sigma^2} \\sim \\chi^2(n-k)\n",
    "$$"
   ]
  },
  {
   "cell_type": "code",
   "execution_count": 1,
   "id": "tender-diabetes",
   "metadata": {
    "slideshow": {
     "slide_type": "slide"
    }
   },
   "outputs": [],
   "source": [
    "import numpy as np\n",
    "import pandas as pd\n",
    "from sklearn.datasets import load_boston, load_iris\n",
    "from sklearn.model_selection import train_test_split\n",
    "from sklearn.metrics import mean_squared_error, r2_score"
   ]
  },
  {
   "cell_type": "code",
   "execution_count": 2,
   "id": "tough-imperial",
   "metadata": {
    "slideshow": {
     "slide_type": "slide"
    }
   },
   "outputs": [
    {
     "data": {
      "text/html": [
       "<div>\n",
       "<style scoped>\n",
       "    .dataframe tbody tr th:only-of-type {\n",
       "        vertical-align: middle;\n",
       "    }\n",
       "\n",
       "    .dataframe tbody tr th {\n",
       "        vertical-align: top;\n",
       "    }\n",
       "\n",
       "    .dataframe thead th {\n",
       "        text-align: right;\n",
       "    }\n",
       "</style>\n",
       "<table border=\"1\" class=\"dataframe\">\n",
       "  <thead>\n",
       "    <tr style=\"text-align: right;\">\n",
       "      <th></th>\n",
       "      <th>CRIM</th>\n",
       "      <th>ZN</th>\n",
       "      <th>INDUS</th>\n",
       "      <th>CHAS</th>\n",
       "      <th>NOX</th>\n",
       "      <th>RM</th>\n",
       "      <th>AGE</th>\n",
       "      <th>DIS</th>\n",
       "      <th>RAD</th>\n",
       "      <th>TAX</th>\n",
       "      <th>PTRATIO</th>\n",
       "      <th>B</th>\n",
       "      <th>LSTAT</th>\n",
       "      <th>MEDV</th>\n",
       "    </tr>\n",
       "  </thead>\n",
       "  <tbody>\n",
       "    <tr>\n",
       "      <th>0</th>\n",
       "      <td>0.00632</td>\n",
       "      <td>18.0</td>\n",
       "      <td>2.31</td>\n",
       "      <td>0.0</td>\n",
       "      <td>0.538</td>\n",
       "      <td>6.575</td>\n",
       "      <td>65.2</td>\n",
       "      <td>4.0900</td>\n",
       "      <td>1.0</td>\n",
       "      <td>296.0</td>\n",
       "      <td>15.3</td>\n",
       "      <td>396.90</td>\n",
       "      <td>4.98</td>\n",
       "      <td>24.0</td>\n",
       "    </tr>\n",
       "    <tr>\n",
       "      <th>1</th>\n",
       "      <td>0.02731</td>\n",
       "      <td>0.0</td>\n",
       "      <td>7.07</td>\n",
       "      <td>0.0</td>\n",
       "      <td>0.469</td>\n",
       "      <td>6.421</td>\n",
       "      <td>78.9</td>\n",
       "      <td>4.9671</td>\n",
       "      <td>2.0</td>\n",
       "      <td>242.0</td>\n",
       "      <td>17.8</td>\n",
       "      <td>396.90</td>\n",
       "      <td>9.14</td>\n",
       "      <td>21.6</td>\n",
       "    </tr>\n",
       "    <tr>\n",
       "      <th>2</th>\n",
       "      <td>0.02729</td>\n",
       "      <td>0.0</td>\n",
       "      <td>7.07</td>\n",
       "      <td>0.0</td>\n",
       "      <td>0.469</td>\n",
       "      <td>7.185</td>\n",
       "      <td>61.1</td>\n",
       "      <td>4.9671</td>\n",
       "      <td>2.0</td>\n",
       "      <td>242.0</td>\n",
       "      <td>17.8</td>\n",
       "      <td>392.83</td>\n",
       "      <td>4.03</td>\n",
       "      <td>34.7</td>\n",
       "    </tr>\n",
       "    <tr>\n",
       "      <th>3</th>\n",
       "      <td>0.03237</td>\n",
       "      <td>0.0</td>\n",
       "      <td>2.18</td>\n",
       "      <td>0.0</td>\n",
       "      <td>0.458</td>\n",
       "      <td>6.998</td>\n",
       "      <td>45.8</td>\n",
       "      <td>6.0622</td>\n",
       "      <td>3.0</td>\n",
       "      <td>222.0</td>\n",
       "      <td>18.7</td>\n",
       "      <td>394.63</td>\n",
       "      <td>2.94</td>\n",
       "      <td>33.4</td>\n",
       "    </tr>\n",
       "    <tr>\n",
       "      <th>4</th>\n",
       "      <td>0.06905</td>\n",
       "      <td>0.0</td>\n",
       "      <td>2.18</td>\n",
       "      <td>0.0</td>\n",
       "      <td>0.458</td>\n",
       "      <td>7.147</td>\n",
       "      <td>54.2</td>\n",
       "      <td>6.0622</td>\n",
       "      <td>3.0</td>\n",
       "      <td>222.0</td>\n",
       "      <td>18.7</td>\n",
       "      <td>396.90</td>\n",
       "      <td>5.33</td>\n",
       "      <td>36.2</td>\n",
       "    </tr>\n",
       "    <tr>\n",
       "      <th>...</th>\n",
       "      <td>...</td>\n",
       "      <td>...</td>\n",
       "      <td>...</td>\n",
       "      <td>...</td>\n",
       "      <td>...</td>\n",
       "      <td>...</td>\n",
       "      <td>...</td>\n",
       "      <td>...</td>\n",
       "      <td>...</td>\n",
       "      <td>...</td>\n",
       "      <td>...</td>\n",
       "      <td>...</td>\n",
       "      <td>...</td>\n",
       "      <td>...</td>\n",
       "    </tr>\n",
       "    <tr>\n",
       "      <th>501</th>\n",
       "      <td>0.06263</td>\n",
       "      <td>0.0</td>\n",
       "      <td>11.93</td>\n",
       "      <td>0.0</td>\n",
       "      <td>0.573</td>\n",
       "      <td>6.593</td>\n",
       "      <td>69.1</td>\n",
       "      <td>2.4786</td>\n",
       "      <td>1.0</td>\n",
       "      <td>273.0</td>\n",
       "      <td>21.0</td>\n",
       "      <td>391.99</td>\n",
       "      <td>9.67</td>\n",
       "      <td>22.4</td>\n",
       "    </tr>\n",
       "    <tr>\n",
       "      <th>502</th>\n",
       "      <td>0.04527</td>\n",
       "      <td>0.0</td>\n",
       "      <td>11.93</td>\n",
       "      <td>0.0</td>\n",
       "      <td>0.573</td>\n",
       "      <td>6.120</td>\n",
       "      <td>76.7</td>\n",
       "      <td>2.2875</td>\n",
       "      <td>1.0</td>\n",
       "      <td>273.0</td>\n",
       "      <td>21.0</td>\n",
       "      <td>396.90</td>\n",
       "      <td>9.08</td>\n",
       "      <td>20.6</td>\n",
       "    </tr>\n",
       "    <tr>\n",
       "      <th>503</th>\n",
       "      <td>0.06076</td>\n",
       "      <td>0.0</td>\n",
       "      <td>11.93</td>\n",
       "      <td>0.0</td>\n",
       "      <td>0.573</td>\n",
       "      <td>6.976</td>\n",
       "      <td>91.0</td>\n",
       "      <td>2.1675</td>\n",
       "      <td>1.0</td>\n",
       "      <td>273.0</td>\n",
       "      <td>21.0</td>\n",
       "      <td>396.90</td>\n",
       "      <td>5.64</td>\n",
       "      <td>23.9</td>\n",
       "    </tr>\n",
       "    <tr>\n",
       "      <th>504</th>\n",
       "      <td>0.10959</td>\n",
       "      <td>0.0</td>\n",
       "      <td>11.93</td>\n",
       "      <td>0.0</td>\n",
       "      <td>0.573</td>\n",
       "      <td>6.794</td>\n",
       "      <td>89.3</td>\n",
       "      <td>2.3889</td>\n",
       "      <td>1.0</td>\n",
       "      <td>273.0</td>\n",
       "      <td>21.0</td>\n",
       "      <td>393.45</td>\n",
       "      <td>6.48</td>\n",
       "      <td>22.0</td>\n",
       "    </tr>\n",
       "    <tr>\n",
       "      <th>505</th>\n",
       "      <td>0.04741</td>\n",
       "      <td>0.0</td>\n",
       "      <td>11.93</td>\n",
       "      <td>0.0</td>\n",
       "      <td>0.573</td>\n",
       "      <td>6.030</td>\n",
       "      <td>80.8</td>\n",
       "      <td>2.5050</td>\n",
       "      <td>1.0</td>\n",
       "      <td>273.0</td>\n",
       "      <td>21.0</td>\n",
       "      <td>396.90</td>\n",
       "      <td>7.88</td>\n",
       "      <td>11.9</td>\n",
       "    </tr>\n",
       "  </tbody>\n",
       "</table>\n",
       "<p>506 rows × 14 columns</p>\n",
       "</div>"
      ],
      "text/plain": [
       "        CRIM    ZN  INDUS  CHAS    NOX     RM   AGE     DIS  RAD    TAX  \\\n",
       "0    0.00632  18.0   2.31   0.0  0.538  6.575  65.2  4.0900  1.0  296.0   \n",
       "1    0.02731   0.0   7.07   0.0  0.469  6.421  78.9  4.9671  2.0  242.0   \n",
       "2    0.02729   0.0   7.07   0.0  0.469  7.185  61.1  4.9671  2.0  242.0   \n",
       "3    0.03237   0.0   2.18   0.0  0.458  6.998  45.8  6.0622  3.0  222.0   \n",
       "4    0.06905   0.0   2.18   0.0  0.458  7.147  54.2  6.0622  3.0  222.0   \n",
       "..       ...   ...    ...   ...    ...    ...   ...     ...  ...    ...   \n",
       "501  0.06263   0.0  11.93   0.0  0.573  6.593  69.1  2.4786  1.0  273.0   \n",
       "502  0.04527   0.0  11.93   0.0  0.573  6.120  76.7  2.2875  1.0  273.0   \n",
       "503  0.06076   0.0  11.93   0.0  0.573  6.976  91.0  2.1675  1.0  273.0   \n",
       "504  0.10959   0.0  11.93   0.0  0.573  6.794  89.3  2.3889  1.0  273.0   \n",
       "505  0.04741   0.0  11.93   0.0  0.573  6.030  80.8  2.5050  1.0  273.0   \n",
       "\n",
       "     PTRATIO       B  LSTAT  MEDV  \n",
       "0       15.3  396.90   4.98  24.0  \n",
       "1       17.8  396.90   9.14  21.6  \n",
       "2       17.8  392.83   4.03  34.7  \n",
       "3       18.7  394.63   2.94  33.4  \n",
       "4       18.7  396.90   5.33  36.2  \n",
       "..       ...     ...    ...   ...  \n",
       "501     21.0  391.99   9.67  22.4  \n",
       "502     21.0  396.90   9.08  20.6  \n",
       "503     21.0  396.90   5.64  23.9  \n",
       "504     21.0  393.45   6.48  22.0  \n",
       "505     21.0  396.90   7.88  11.9  \n",
       "\n",
       "[506 rows x 14 columns]"
      ]
     },
     "execution_count": 2,
     "metadata": {},
     "output_type": "execute_result"
    }
   ],
   "source": [
    "data = load_boston()\n",
    "data = pd.DataFrame(\n",
    "    np.concatenate([\n",
    "        data[\"data\"], np.expand_dims(data[\"target\"], -1)\n",
    "    ], axis=1),\n",
    "    columns=data[\"feature_names\"].tolist() + [\"MEDV\"]\n",
    ")\n",
    "data_train, data_test = train_test_split(data, test_size=0.2)\n",
    "data"
   ]
  },
  {
   "cell_type": "code",
   "execution_count": 3,
   "id": "noble-exception",
   "metadata": {
    "slideshow": {
     "slide_type": "slide"
    }
   },
   "outputs": [
    {
     "data": {
      "text/plain": [
       "18.302407500322"
      ]
     },
     "execution_count": 3,
     "metadata": {},
     "output_type": "execute_result"
    }
   ],
   "source": [
    "from sklearn.linear_model import LinearRegression\n",
    "\n",
    "lr = LinearRegression()\n",
    "lr.fit(\n",
    "    data_train.drop(\"MEDV\", axis=1),\n",
    "    data_train[\"MEDV\"]\n",
    ");\n",
    "prediction = lr.predict(data_test.drop(\"MEDV\", axis=1))\n",
    "mean_squared_error(\n",
    "    data_test[\"MEDV\"],\n",
    "    prediction\n",
    ")"
   ]
  },
  {
   "cell_type": "code",
   "execution_count": 4,
   "id": "wicked-adult",
   "metadata": {
    "slideshow": {
     "slide_type": "fragment"
    }
   },
   "outputs": [
    {
     "data": {
      "text/plain": [
       "0.7564088458745873"
      ]
     },
     "execution_count": 4,
     "metadata": {},
     "output_type": "execute_result"
    }
   ],
   "source": [
    "r2_score(\n",
    "    data_test[\"MEDV\"],\n",
    "    prediction\n",
    ")"
   ]
  },
  {
   "cell_type": "code",
   "execution_count": 5,
   "id": "charitable-turkey",
   "metadata": {
    "slideshow": {
     "slide_type": "slide"
    }
   },
   "outputs": [],
   "source": [
    "import statsmodels.api as sm"
   ]
  },
  {
   "cell_type": "code",
   "execution_count": 6,
   "id": "attached-editor",
   "metadata": {
    "slideshow": {
     "slide_type": "fragment"
    }
   },
   "outputs": [],
   "source": [
    "mod = sm.formula.ols(\n",
    "    formula=\"MEDV ~ CRIM + ZN + INDUS + CHAS + NOX + RM + AGE + DIS + RAD + TAX + PTRATIO + B + LSTAT\",\n",
    "    data=data\n",
    ")\n",
    "res = mod.fit()"
   ]
  },
  {
   "cell_type": "code",
   "execution_count": 7,
   "id": "flexible-retirement",
   "metadata": {
    "slideshow": {
     "slide_type": "slide"
    }
   },
   "outputs": [
    {
     "data": {
      "text/html": [
       "<table class=\"simpletable\">\n",
       "<caption>OLS Regression Results</caption>\n",
       "<tr>\n",
       "  <th>Dep. Variable:</th>          <td>MEDV</td>       <th>  R-squared:         </th> <td>   0.741</td> \n",
       "</tr>\n",
       "<tr>\n",
       "  <th>Model:</th>                   <td>OLS</td>       <th>  Adj. R-squared:    </th> <td>   0.734</td> \n",
       "</tr>\n",
       "<tr>\n",
       "  <th>Method:</th>             <td>Least Squares</td>  <th>  F-statistic:       </th> <td>   108.1</td> \n",
       "</tr>\n",
       "<tr>\n",
       "  <th>Date:</th>             <td>Wed, 28 Apr 2021</td> <th>  Prob (F-statistic):</th> <td>6.72e-135</td>\n",
       "</tr>\n",
       "<tr>\n",
       "  <th>Time:</th>                 <td>19:30:28</td>     <th>  Log-Likelihood:    </th> <td> -1498.8</td> \n",
       "</tr>\n",
       "<tr>\n",
       "  <th>No. Observations:</th>      <td>   506</td>      <th>  AIC:               </th> <td>   3026.</td> \n",
       "</tr>\n",
       "<tr>\n",
       "  <th>Df Residuals:</th>          <td>   492</td>      <th>  BIC:               </th> <td>   3085.</td> \n",
       "</tr>\n",
       "<tr>\n",
       "  <th>Df Model:</th>              <td>    13</td>      <th>                     </th>     <td> </td>    \n",
       "</tr>\n",
       "<tr>\n",
       "  <th>Covariance Type:</th>      <td>nonrobust</td>    <th>                     </th>     <td> </td>    \n",
       "</tr>\n",
       "</table>\n",
       "<table class=\"simpletable\">\n",
       "<tr>\n",
       "      <td></td>         <th>coef</th>     <th>std err</th>      <th>t</th>      <th>P>|t|</th>  <th>[0.025</th>    <th>0.975]</th>  \n",
       "</tr>\n",
       "<tr>\n",
       "  <th>Intercept</th> <td>   36.4595</td> <td>    5.103</td> <td>    7.144</td> <td> 0.000</td> <td>   26.432</td> <td>   46.487</td>\n",
       "</tr>\n",
       "<tr>\n",
       "  <th>CRIM</th>      <td>   -0.1080</td> <td>    0.033</td> <td>   -3.287</td> <td> 0.001</td> <td>   -0.173</td> <td>   -0.043</td>\n",
       "</tr>\n",
       "<tr>\n",
       "  <th>ZN</th>        <td>    0.0464</td> <td>    0.014</td> <td>    3.382</td> <td> 0.001</td> <td>    0.019</td> <td>    0.073</td>\n",
       "</tr>\n",
       "<tr>\n",
       "  <th>INDUS</th>     <td>    0.0206</td> <td>    0.061</td> <td>    0.334</td> <td> 0.738</td> <td>   -0.100</td> <td>    0.141</td>\n",
       "</tr>\n",
       "<tr>\n",
       "  <th>CHAS</th>      <td>    2.6867</td> <td>    0.862</td> <td>    3.118</td> <td> 0.002</td> <td>    0.994</td> <td>    4.380</td>\n",
       "</tr>\n",
       "<tr>\n",
       "  <th>NOX</th>       <td>  -17.7666</td> <td>    3.820</td> <td>   -4.651</td> <td> 0.000</td> <td>  -25.272</td> <td>  -10.262</td>\n",
       "</tr>\n",
       "<tr>\n",
       "  <th>RM</th>        <td>    3.8099</td> <td>    0.418</td> <td>    9.116</td> <td> 0.000</td> <td>    2.989</td> <td>    4.631</td>\n",
       "</tr>\n",
       "<tr>\n",
       "  <th>AGE</th>       <td>    0.0007</td> <td>    0.013</td> <td>    0.052</td> <td> 0.958</td> <td>   -0.025</td> <td>    0.027</td>\n",
       "</tr>\n",
       "<tr>\n",
       "  <th>DIS</th>       <td>   -1.4756</td> <td>    0.199</td> <td>   -7.398</td> <td> 0.000</td> <td>   -1.867</td> <td>   -1.084</td>\n",
       "</tr>\n",
       "<tr>\n",
       "  <th>RAD</th>       <td>    0.3060</td> <td>    0.066</td> <td>    4.613</td> <td> 0.000</td> <td>    0.176</td> <td>    0.436</td>\n",
       "</tr>\n",
       "<tr>\n",
       "  <th>TAX</th>       <td>   -0.0123</td> <td>    0.004</td> <td>   -3.280</td> <td> 0.001</td> <td>   -0.020</td> <td>   -0.005</td>\n",
       "</tr>\n",
       "<tr>\n",
       "  <th>PTRATIO</th>   <td>   -0.9527</td> <td>    0.131</td> <td>   -7.283</td> <td> 0.000</td> <td>   -1.210</td> <td>   -0.696</td>\n",
       "</tr>\n",
       "<tr>\n",
       "  <th>B</th>         <td>    0.0093</td> <td>    0.003</td> <td>    3.467</td> <td> 0.001</td> <td>    0.004</td> <td>    0.015</td>\n",
       "</tr>\n",
       "<tr>\n",
       "  <th>LSTAT</th>     <td>   -0.5248</td> <td>    0.051</td> <td>  -10.347</td> <td> 0.000</td> <td>   -0.624</td> <td>   -0.425</td>\n",
       "</tr>\n",
       "</table>\n",
       "<table class=\"simpletable\">\n",
       "<tr>\n",
       "  <th>Omnibus:</th>       <td>178.041</td> <th>  Durbin-Watson:     </th> <td>   1.078</td> \n",
       "</tr>\n",
       "<tr>\n",
       "  <th>Prob(Omnibus):</th> <td> 0.000</td>  <th>  Jarque-Bera (JB):  </th> <td> 783.126</td> \n",
       "</tr>\n",
       "<tr>\n",
       "  <th>Skew:</th>          <td> 1.521</td>  <th>  Prob(JB):          </th> <td>8.84e-171</td>\n",
       "</tr>\n",
       "<tr>\n",
       "  <th>Kurtosis:</th>      <td> 8.281</td>  <th>  Cond. No.          </th> <td>1.51e+04</td> \n",
       "</tr>\n",
       "</table><br/><br/>Notes:<br/>[1] Standard Errors assume that the covariance matrix of the errors is correctly specified.<br/>[2] The condition number is large, 1.51e+04. This might indicate that there are<br/>strong multicollinearity or other numerical problems."
      ],
      "text/plain": [
       "<class 'statsmodels.iolib.summary.Summary'>\n",
       "\"\"\"\n",
       "                            OLS Regression Results                            \n",
       "==============================================================================\n",
       "Dep. Variable:                   MEDV   R-squared:                       0.741\n",
       "Model:                            OLS   Adj. R-squared:                  0.734\n",
       "Method:                 Least Squares   F-statistic:                     108.1\n",
       "Date:                Wed, 28 Apr 2021   Prob (F-statistic):          6.72e-135\n",
       "Time:                        19:30:28   Log-Likelihood:                -1498.8\n",
       "No. Observations:                 506   AIC:                             3026.\n",
       "Df Residuals:                     492   BIC:                             3085.\n",
       "Df Model:                          13                                         \n",
       "Covariance Type:            nonrobust                                         \n",
       "==============================================================================\n",
       "                 coef    std err          t      P>|t|      [0.025      0.975]\n",
       "------------------------------------------------------------------------------\n",
       "Intercept     36.4595      5.103      7.144      0.000      26.432      46.487\n",
       "CRIM          -0.1080      0.033     -3.287      0.001      -0.173      -0.043\n",
       "ZN             0.0464      0.014      3.382      0.001       0.019       0.073\n",
       "INDUS          0.0206      0.061      0.334      0.738      -0.100       0.141\n",
       "CHAS           2.6867      0.862      3.118      0.002       0.994       4.380\n",
       "NOX          -17.7666      3.820     -4.651      0.000     -25.272     -10.262\n",
       "RM             3.8099      0.418      9.116      0.000       2.989       4.631\n",
       "AGE            0.0007      0.013      0.052      0.958      -0.025       0.027\n",
       "DIS           -1.4756      0.199     -7.398      0.000      -1.867      -1.084\n",
       "RAD            0.3060      0.066      4.613      0.000       0.176       0.436\n",
       "TAX           -0.0123      0.004     -3.280      0.001      -0.020      -0.005\n",
       "PTRATIO       -0.9527      0.131     -7.283      0.000      -1.210      -0.696\n",
       "B              0.0093      0.003      3.467      0.001       0.004       0.015\n",
       "LSTAT         -0.5248      0.051    -10.347      0.000      -0.624      -0.425\n",
       "==============================================================================\n",
       "Omnibus:                      178.041   Durbin-Watson:                   1.078\n",
       "Prob(Omnibus):                  0.000   Jarque-Bera (JB):              783.126\n",
       "Skew:                           1.521   Prob(JB):                    8.84e-171\n",
       "Kurtosis:                       8.281   Cond. No.                     1.51e+04\n",
       "==============================================================================\n",
       "\n",
       "Notes:\n",
       "[1] Standard Errors assume that the covariance matrix of the errors is correctly specified.\n",
       "[2] The condition number is large, 1.51e+04. This might indicate that there are\n",
       "strong multicollinearity or other numerical problems.\n",
       "\"\"\""
      ]
     },
     "execution_count": 7,
     "metadata": {},
     "output_type": "execute_result"
    }
   ],
   "source": [
    "res.summary()"
   ]
  },
  {
   "cell_type": "markdown",
   "id": "damaged-arctic",
   "metadata": {
    "slideshow": {
     "slide_type": "slide"
    }
   },
   "source": [
    "# Model selection"
   ]
  },
  {
   "cell_type": "markdown",
   "id": "equal-questionnaire",
   "metadata": {
    "slideshow": {
     "slide_type": "slide"
    }
   },
   "source": [
    "## Model selection\n",
    "\n",
    "- model $m$, real model $m^\\ast$\n",
    "- loss function $\\ell(f, X) = \\| Y - f(X) \\|^2$\n",
    "- risk function $R(f) = \\mathbb{E}_X[\\ell(\\cdot)]$\n",
    "- empirical risk (data fit) $\\hat{R}_m$\n",
    "- actual risk $R(m, m^\\ast)$\n",
    "\n",
    "If we minimize empirical risk w.r.t. $m$ we obtain $\\hat{m} = p$, so it is a bad idea for model selection. Let's look closer at the empirical risk:\n",
    "$$\n",
    "\\hat{R}_m = \\mathbb{E}_X[\\| Y - f_m(X) \\|^2] = \\| Y^\\ast - f_{m}(X) \\|^2 + \\sigma^2 (n-m)\n",
    "$$\n",
    "\n",
    "One can easily make a correction of the empirical risk which delivers an unbiased risk estimate:\n",
    "$$\n",
    "\\tilde{R}_m = \\| Y - f_m(X) \\|^2 + 2 \\sigma^2 m\n",
    "$$\n",
    "$$\n",
    "\\mathbb{E}[\\tilde{R}_m] = R(m, m^\\ast) + \\sigma^2 n\n",
    "$$\n",
    "\n",
    "We can define\n",
    "$$\n",
    "\\hat{m} = \\arg\\min_m \\tilde{R}_m = \\arg\\min_m \\left( \\| Y - f_m(X) \\|^2 + 2 \\sigma^2 m \\right)\n",
    "$$"
   ]
  },
  {
   "cell_type": "markdown",
   "id": "arranged-integral",
   "metadata": {
    "slideshow": {
     "slide_type": "slide"
    }
   },
   "source": [
    "## Model selection\n",
    "\n",
    "- Cross-validation (LOO, $k$-fold)\n",
    "- Structured risk minimization (VC-dimension)\n",
    "- Minimum description length (penalized likelihood, e.g. Ridge regression, Lasso regression)\n",
    "- Information criteria (Bayesian information criterion, Akaike information criterion)\n",
    "- Maximum evidence (comparing priors)\n",
    "\n",
    "$$\n",
    "\\hat{m} = \\arg\\max_m p_m(y|x) = \\arg\\max_m \\int p(y|x, \\theta) p_m(\\theta) \\rm{d} \\theta\n",
    "$$"
   ]
  },
  {
   "cell_type": "markdown",
   "id": "naughty-screw",
   "metadata": {
    "slideshow": {
     "slide_type": "slide"
    }
   },
   "source": [
    "# Ridge regression"
   ]
  },
  {
   "cell_type": "markdown",
   "id": "apart-credits",
   "metadata": {
    "slideshow": {
     "slide_type": "slide"
    }
   },
   "source": [
    "## Ridge regression\n",
    "\n",
    "Consider:\n",
    "$$\n",
    "p(t, \\theta | x) = p(t | x, \\theta) p(\\theta) = \\mathcal{N}(t; \\theta^\\top x, \\beta^{-1}) \\mathcal{N}(\\theta; 0, \\alpha^{-1} E)\n",
    "$$\n",
    "\n",
    "Then,\n",
    "$$\n",
    "\\begin{aligned}\n",
    "\\theta^{MP} & = \\arg\\max_\\theta p(\\theta|X, Y) = \\arg\\max_\\theta p(Y | X, \\theta) p(\\theta) = \\\\\n",
    "& = \\arg\\max_\\theta \\prod_{i=1}^n \\sqrt{\\frac{\\beta}{2 \\pi}} \\exp \\left( -\\frac{\\beta}{2} (y_i - \\theta^\\top x_i)^2 \\right) \\left( \\frac{\\alpha}{2 \\pi} \\right)^{\\tfrac{d}{2}} \\exp \\left( -\\frac{\\alpha}{2} \\theta^\\top \\theta \\right)  = \\\\\n",
    "& = \\arg\\min_\\theta \\left( \\theta^\\top \\left( \\beta X^\\top X + \\alpha E \\right) \\theta - 2 \\theta^\\top X^\\top X \\right) = \\\\\n",
    "& = \\left( X^\\top X + \\frac\\alpha\\beta E \\right)^{-1} X^\\top Y\n",
    "\\end{aligned}\n",
    "$$\n",
    "\n",
    "How to select $\\gamma = \\frac\\alpha\\beta$? What if $p(\\theta) = \\mathcal{N}(\\theta; 0, A)$?"
   ]
  },
  {
   "cell_type": "markdown",
   "id": "varied-tumor",
   "metadata": {
    "slideshow": {
     "slide_type": "slide"
    }
   },
   "source": [
    "# Logistic regression"
   ]
  },
  {
   "cell_type": "markdown",
   "id": "apparent-offense",
   "metadata": {
    "slideshow": {
     "slide_type": "slide"
    }
   },
   "source": [
    "## Logistic regression\n",
    "\n",
    "So far we have assumed that $Y$ is real-valued. Logistic regression is a parametric method for regression when $Y$, e.g. $Y\\sim Be(p)$. For a $k$-dimensional covariate $X$, the model is:\n",
    "$$\n",
    "p_i = p(Y_i = 1) = \\left( 1 + \\exp \\left( - \\theta^\\top X_i \\right) \\right)^{-1} = \\sigma(\\theta^\\top X_i)\n",
    "$$\n",
    "\n",
    "Equivalently,\n",
    "$$\n",
    "\\log p_i = {\\rm logit}(\\theta^\\top X_i)\n",
    "$$\n",
    "where\n",
    "$$\n",
    "{\\rm logit}(p) = \\log \\left( \\frac{p}{1-p} \\right)\n",
    "$$"
   ]
  },
  {
   "cell_type": "markdown",
   "id": "seven-threat",
   "metadata": {
    "slideshow": {
     "slide_type": "slide"
    }
   },
   "source": [
    "## Logistic regression\n",
    "\n",
    "There is no closed-form solution for $\\hat{\\theta}$. It has to be found using iterative methods, e.g. **Reweighted Least Squares**:\n",
    "0. Set all $p_i^0$ using random parameters $\\theta$\n",
    "1. Set\n",
    "$$\n",
    "Z_i = {\\rm logit}(p_i^s) + \\frac{Y_i - p_i^s}{p_i^s (1 - p_i^s)}\n",
    "$$\n",
    "2. Let $W$ be a diagonal matrix with $w_{ii} = p_i^s (1 − p_i^s )$.\n",
    "3. Set\n",
    "$$\n",
    "\\theta^s = (X^\\top W X)^{-1} X^\\top W Y\n",
    "$$"
   ]
  },
  {
   "cell_type": "code",
   "execution_count": 10,
   "id": "modified-summit",
   "metadata": {},
   "outputs": [],
   "source": [
    "data = load_iris(as_frame=True)\n",
    "data = pd.concat([\n",
    "    data[\"data\"],\n",
    "    data[\"target\"]\n",
    "    ],\n",
    "    axis=1\n",
    ")"
   ]
  },
  {
   "cell_type": "code",
   "execution_count": 12,
   "id": "otherwise-expense",
   "metadata": {},
   "outputs": [],
   "source": [
    "data = data[data[\"target\"].isin([0, 1])]"
   ]
  },
  {
   "cell_type": "code",
   "execution_count": 16,
   "id": "adaptive-economics",
   "metadata": {},
   "outputs": [],
   "source": [
    "data.columns = [\"sep_len\", \"sep_wid\", \"pet_len\", \"pet_wid\", \"target\"]"
   ]
  },
  {
   "cell_type": "code",
   "execution_count": 20,
   "id": "overall-teacher",
   "metadata": {},
   "outputs": [],
   "source": [
    "import seaborn as sns"
   ]
  },
  {
   "cell_type": "code",
   "execution_count": 22,
   "id": "athletic-albert",
   "metadata": {},
   "outputs": [
    {
     "data": {
      "text/plain": [
       "<seaborn.axisgrid.PairGrid at 0x13f92d730>"
      ]
     },
     "execution_count": 22,
     "metadata": {},
     "output_type": "execute_result"
    },
    {
     "data": {
      "image/png": "[encoded data removed]",
      "text/plain": [
       "<Figure size 762.375x720 with 20 Axes>"
      ]
     },
     "metadata": {
      "needs_background": "light"
     },
     "output_type": "display_data"
    }
   ],
   "source": [
    "sns.pairplot(data, hue=\"target\")"
   ]
  },
  {
   "cell_type": "code",
   "execution_count": 33,
   "id": "union-soccer",
   "metadata": {},
   "outputs": [],
   "source": [
    "model = sm.formula.rlm(\n",
    "    formula=\"target ~ sep_len + sep_wid + pet_len + pet_wid\",\n",
    "    data=data\n",
    ")\n",
    "res = model.fit()"
   ]
  },
  {
   "cell_type": "code",
   "execution_count": 34,
   "id": "latter-anger",
   "metadata": {},
   "outputs": [
    {
     "data": {
      "text/html": [
       "<table class=\"simpletable\">\n",
       "<caption>Robust linear Model Regression Results</caption>\n",
       "<tr>\n",
       "  <th>Dep. Variable:</th>       <td>target</td>      <th>  No. Observations:  </th> <td>   100</td>\n",
       "</tr>\n",
       "<tr>\n",
       "  <th>Model:</th>                 <td>RLM</td>       <th>  Df Residuals:      </th> <td>    95</td>\n",
       "</tr>\n",
       "<tr>\n",
       "  <th>Method:</th>               <td>IRLS</td>       <th>  Df Model:          </th> <td>     4</td>\n",
       "</tr>\n",
       "<tr>\n",
       "  <th>Norm:</th>                <td>HuberT</td>      <th>                     </th>    <td> </td>  \n",
       "</tr>\n",
       "<tr>\n",
       "  <th>Scale Est.:</th>            <td>mad</td>       <th>                     </th>    <td> </td>  \n",
       "</tr>\n",
       "<tr>\n",
       "  <th>Cov Type:</th>              <td>H1</td>        <th>                     </th>    <td> </td>  \n",
       "</tr>\n",
       "<tr>\n",
       "  <th>Date:</th>           <td>Wed, 28 Apr 2021</td> <th>                     </th>    <td> </td>  \n",
       "</tr>\n",
       "<tr>\n",
       "  <th>Time:</th>               <td>20:02:48</td>     <th>                     </th>    <td> </td>  \n",
       "</tr>\n",
       "<tr>\n",
       "  <th>No. Iterations:</th>        <td>30</td>        <th>                     </th>    <td> </td>  \n",
       "</tr>\n",
       "</table>\n",
       "<table class=\"simpletable\">\n",
       "<tr>\n",
       "      <td></td>         <th>coef</th>     <th>std err</th>      <th>z</th>      <th>P>|z|</th>  <th>[0.025</th>    <th>0.975]</th>  \n",
       "</tr>\n",
       "<tr>\n",
       "  <th>Intercept</th> <td>    0.2903</td> <td>    0.121</td> <td>    2.393</td> <td> 0.017</td> <td>    0.052</td> <td>    0.528</td>\n",
       "</tr>\n",
       "<tr>\n",
       "  <th>sep_len</th>   <td>   -0.0256</td> <td>    0.033</td> <td>   -0.785</td> <td> 0.432</td> <td>   -0.089</td> <td>    0.038</td>\n",
       "</tr>\n",
       "<tr>\n",
       "  <th>sep_wid</th>   <td>   -0.1550</td> <td>    0.032</td> <td>   -4.833</td> <td> 0.000</td> <td>   -0.218</td> <td>   -0.092</td>\n",
       "</tr>\n",
       "<tr>\n",
       "  <th>pet_len</th>   <td>    0.2183</td> <td>    0.040</td> <td>    5.513</td> <td> 0.000</td> <td>    0.141</td> <td>    0.296</td>\n",
       "</tr>\n",
       "<tr>\n",
       "  <th>pet_wid</th>   <td>    0.2581</td> <td>    0.085</td> <td>    3.035</td> <td> 0.002</td> <td>    0.091</td> <td>    0.425</td>\n",
       "</tr>\n",
       "</table><br/><br/>If the model instance has been used for another fit with different fit parameters, then the fit options might not be the correct ones anymore ."
      ],
      "text/plain": [
       "<class 'statsmodels.iolib.summary.Summary'>\n",
       "\"\"\"\n",
       "                    Robust linear Model Regression Results                    \n",
       "==============================================================================\n",
       "Dep. Variable:                 target   No. Observations:                  100\n",
       "Model:                            RLM   Df Residuals:                       95\n",
       "Method:                          IRLS   Df Model:                            4\n",
       "Norm:                          HuberT                                         \n",
       "Scale Est.:                       mad                                         \n",
       "Cov Type:                          H1                                         \n",
       "Date:                Wed, 28 Apr 2021                                         \n",
       "Time:                        20:02:48                                         \n",
       "No. Iterations:                    30                                         \n",
       "==============================================================================\n",
       "                 coef    std err          z      P>|z|      [0.025      0.975]\n",
       "------------------------------------------------------------------------------\n",
       "Intercept      0.2903      0.121      2.393      0.017       0.052       0.528\n",
       "sep_len       -0.0256      0.033     -0.785      0.432      -0.089       0.038\n",
       "sep_wid       -0.1550      0.032     -4.833      0.000      -0.218      -0.092\n",
       "pet_len        0.2183      0.040      5.513      0.000       0.141       0.296\n",
       "pet_wid        0.2581      0.085      3.035      0.002       0.091       0.425\n",
       "==============================================================================\n",
       "\n",
       "If the model instance has been used for another fit with different fit parameters, then the fit options might not be the correct ones anymore .\n",
       "\"\"\""
      ]
     },
     "execution_count": 34,
     "metadata": {},
     "output_type": "execute_result"
    }
   ],
   "source": [
    "res.summary()"
   ]
  },
  {
   "cell_type": "markdown",
   "id": "insured-matthew",
   "metadata": {
    "slideshow": {
     "slide_type": "slide"
    }
   },
   "source": [
    "# Generalized linear model"
   ]
  },
  {
   "cell_type": "markdown",
   "id": "thousand-hello",
   "metadata": {
    "slideshow": {
     "slide_type": "slide"
    }
   },
   "source": [
    "## Generalized linear model\n",
    "\n",
    "For **any** distribution in exponential family:\n",
    "$$\n",
    "y = g^{-1} \\left( \\sum_{i=1}^n w_i g(x_i) \\right)\n",
    "$$\n",
    "where $g(\\cdot)$ is **link function** ($g^{-1}$ is often callen **mean function**).\n",
    "\n",
    "What is link function for:\n",
    "- Linear regression: $y = x^\\top \\theta$"
   ]
  },
  {
   "cell_type": "markdown",
   "id": "graduate-recipe",
   "metadata": {
    "slideshow": {
     "slide_type": "fragment"
    }
   },
   "source": [
    "$$\n",
    "g(p) = p\n",
    "$$"
   ]
  },
  {
   "cell_type": "markdown",
   "id": "attractive-publisher",
   "metadata": {
    "slideshow": {
     "slide_type": "fragment"
    }
   },
   "source": [
    "- Logistic regression: $y = \\frac{1}{1 + \\exp \\left( - x^\\top \\theta \\right)}$"
   ]
  },
  {
   "cell_type": "markdown",
   "id": "liked-toolbox",
   "metadata": {
    "slideshow": {
     "slide_type": "fragment"
    }
   },
   "source": [
    "$$\n",
    "g(p) = \\log \\left( \\frac{p}{1-p} \\right)\n",
    "$$"
   ]
  }
 ],
 "metadata": {
  "celltoolbar": "Slideshow",
  "kernelspec": {
   "display_name": "Python 3 (ipykernel)",
   "language": "python",
   "name": "python3"
  },
  "language_info": {
   "codemirror_mode": {
    "name": "ipython",
    "version": 3
   },
   "file_extension": ".py",
   "mimetype": "text/x-python",
   "name": "python",
   "nbconvert_exporter": "python",
   "pygments_lexer": "ipython3",
   "version": "3.9.13"
  }
 },
 "nbformat": 4,
 "nbformat_minor": 5
}
