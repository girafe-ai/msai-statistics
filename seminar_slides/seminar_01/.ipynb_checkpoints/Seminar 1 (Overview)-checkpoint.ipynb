{
 "cells": [
  {
   "cell_type": "markdown",
   "id": "5e908bf9",
   "metadata": {
    "slideshow": {
     "slide_type": "slide"
    }
   },
   "source": [
    "# Statistics"
   ]
  },
  {
   "cell_type": "markdown",
   "id": "07e0bc15",
   "metadata": {
    "slideshow": {
     "slide_type": "slide"
    }
   },
   "source": [
    "## From probability to statistics\n",
    "\n",
    "In probability:\n",
    "$$\n",
    "X_i \\sim F(x) = \\mathbb{P}(X \\leqslant x)\n",
    "$$\n",
    "\n",
    "In statistics:\n",
    "$$\n",
    "\\{ X_1, \\ldots, X_n\\} + \\text{hypothesis} \\to \\text{information}\n",
    "$$\n",
    "\n",
    "What kind of information?\n",
    "- Distribution\n",
    "- Distribution property\n",
    "- Functional\n",
    "- Hypothesis correctness"
   ]
  },
  {
   "cell_type": "markdown",
   "id": "b6066fcd",
   "metadata": {
    "slideshow": {
     "slide_type": "slide"
    }
   },
   "source": [
    "## What we will do in this course\n",
    "\n",
    "- Estimation\n",
    "    - Point estimates = best guess\n",
    "    - Bayesian estimate = probabilistic guess\n",
    "- Confidence sets (another way to provide probabilistic guess)\n",
    "- Hypothesis testing (confidence sets inversed)"
   ]
  },
  {
   "cell_type": "markdown",
   "id": "273ff29a",
   "metadata": {
    "slideshow": {
     "slide_type": "slide"
    }
   },
   "source": [
    "## Parametric vs non-parametric statistics\n",
    "\n",
    "- In probability, we studied different distributions, that were parametrized by one or more parameters.\n",
    "- In statistics, we can think of these distributions as of **models** of the data, and try to find the **parameters** for these models best describing the data.\n",
    "- Example: you own a chain of restaurants, and due to budget cuts, you would like to close one restaurant that is the least popular. In order to do that, for each restaurant you collect the data of visitor counts per day. Then you can fit a distribution to find the actual rates of visitors per day and then proceed to close the restaurant with the lowest rate.\n",
    "- This is called parametric statistics."
   ]
  },
  {
   "cell_type": "markdown",
   "id": "c011721f",
   "metadata": {
    "slideshow": {
     "slide_type": "slide"
    }
   },
   "source": [
    "## Parametric vs non-parametric statistics\n",
    "\n",
    "- We can also go without any model assumption. How?\n",
    "- This will be non-parametric statistics."
   ]
  },
  {
   "cell_type": "markdown",
   "id": "2ba5c189",
   "metadata": {
    "slideshow": {
     "slide_type": "slide"
    }
   },
   "source": [
    "# Estimation"
   ]
  },
  {
   "cell_type": "markdown",
   "id": "37c75439",
   "metadata": {
    "slideshow": {
     "slide_type": "slide"
    }
   },
   "source": [
    "## Estimation\n",
    "\n",
    "Consider sample $X_1, X_2, \\ldots, X_n$ i.i.d. (simple sample). Consider its true distribution $F_\\theta(x)$ (unknown) parametrized by $\\theta$. In case of parametric statistics this will be the set of distribution parameters, in case of non-parametric statistics it will be the distribution itself (next time).\n",
    "\n",
    "Consider an estimate $\\widehat{\\theta}$. It is a **random variable**, since it is a function of sample, which is random. How **good** is this estimate?"
   ]
  },
  {
   "cell_type": "markdown",
   "id": "657ca45f",
   "metadata": {
    "slideshow": {
     "slide_type": "slide"
    }
   },
   "source": [
    "## Bias\n",
    "\n",
    "Bias is one measure of goodness of fit, describing the systematic error (not related to randomness).\n",
    "$$\n",
    "\\operatorname{bias}\\left(\\widehat{\\theta}\\right) = \\mathbb{E}\\left[\\widehat{\\theta}\\right] - \\theta\n",
    "$$\n",
    "\n",
    "An estimate is called **unbiased** if bias is zero:\n",
    "$$\n",
    "\\mathbb{E}\\left[\\widehat{\\theta}\\right] = \\theta\n",
    "$$\n",
    "\n",
    "Unbiasedness is a desirable quality, however it is often omitted to reduce the other measure of goodness of fit."
   ]
  },
  {
   "cell_type": "markdown",
   "id": "3c279116",
   "metadata": {
    "slideshow": {
     "slide_type": "slide"
    }
   },
   "source": [
    "## Example 1\n",
    "\n",
    "Example with restaurant. Consider simple sample $X_1, \\ldots, X_n \\sim Pois(\\lambda)$. We would like to estimate the parameter of Poisson distribution and we chose the following estimator:\n",
    "$$\n",
    "\\widehat{\\lambda} = \\frac1n \\sum_{k=1}^n X_k\n",
    "$$\n",
    "\n",
    "What would be its bias?"
   ]
  },
  {
   "cell_type": "markdown",
   "id": "d02af919",
   "metadata": {
    "slideshow": {
     "slide_type": "slide"
    }
   },
   "source": [
    "## Solution 1\n",
    "\n",
    "$$\n",
    "\\mathbb{E}\\left[\\widehat{\\lambda}\\right] = \\mathbb{E}\\left[\\frac1n \\sum_{k=1}^n X_k \\right] = \\frac1n \\sum_{k=1}^n \\mathbb{E}[X_k] = \\frac1n \\sum_{k=1}^n \\lambda = \\lambda\n",
    "$$\n",
    "\n",
    "$$\n",
    "\\operatorname{bias}\\left(\\widehat{\\lambda}\\right) = \\mathbb{E}\\left[\\widehat{\\lambda}\\right] - \\lambda = 0\n",
    "$$"
   ]
  },
  {
   "cell_type": "markdown",
   "id": "53513993",
   "metadata": {
    "slideshow": {
     "slide_type": "slide"
    }
   },
   "source": [
    "## Standard error\n",
    "\n",
    "Bias describes the tendency of our estimate, but what about its noisiness? This is where standard error comes in handy.\n",
    "$$\n",
    "\\operatorname{se}\\left(\\widehat{\\theta}\\right) = \\sqrt{\\mathbb{V}\\text{ar}\\left(\\widehat{\\theta}\\right)}\n",
    "$$\n",
    "\n",
    "Standard error is very important. We can have a perfectly unbiased estimator with large standard error."
   ]
  },
  {
   "cell_type": "code",
   "execution_count": 3,
   "id": "36b24a9d",
   "metadata": {
    "slideshow": {
     "slide_type": "skip"
    }
   },
   "outputs": [],
   "source": [
    "import numpy as np\n",
    "import scipy.stats as sts\n",
    "import matplotlib.pyplot as plt\n",
    "import seaborn as sns\n",
    "\n",
    "sns.set(style=\"whitegrid\", font_scale=1.5)\n",
    "sns.despine()\n",
    "\n",
    "%matplotlib inline"
   ]
  },
  {
   "cell_type": "code",
   "execution_count": 21,
   "id": "00f219e4",
   "metadata": {
    "slideshow": {
     "slide_type": "slide"
    }
   },
   "outputs": [
    {
     "data": {
      "text/plain": [
       "<matplotlib.legend.Legend at 0x13b342640>"
      ]
     },
     "execution_count": 21,
     "metadata": {},
     "output_type": "execute_result"
    },
    {
     "data": {
      "image/png": "[encoded data removed]",
      "text/plain": [
       "<Figure size 1440x720 with 1 Axes>"
      ]
     },
     "metadata": {
      "needs_background": "light"
     },
     "output_type": "display_data"
    }
   ],
   "source": [
    "lbd = 1/100\n",
    "n = 100\n",
    "x = sts.poisson(lbd).rvs(n)\n",
    "lbd_hat = np.mean(x)\n",
    "scaling_factors = np.linspace(0, 2.5, 100)\n",
    "biases = lbd * (scaling_factors - 1)\n",
    "ses = scaling_factors * np.sqrt(lbd / n)\n",
    "fig, ax = plt.subplots(figsize=(20,10))\n",
    "ax.plot(scaling_factors, biases ** 2, \"b--\", label=\"bias squared\")\n",
    "ax.plot(scaling_factors, ses ** 2, \"r-.\", label=\"variance\")\n",
    "ax.plot(scaling_factors, biases ** 2 + ses ** 2, 'g-', label=\"variance\")\n",
    "ax.legend()"
   ]
  },
  {
   "cell_type": "markdown",
   "id": "46da1af4",
   "metadata": {
    "slideshow": {
     "slide_type": "slide"
    }
   },
   "source": [
    "## Bias-variance tradeoff\n",
    "\n",
    "Actually bias and standard error are strongly connected:\n",
    "$$\n",
    "\\text{MSE}\\left(\\widehat{\\theta}\\right) = \\operatorname{bias}\\left(\\widehat{\\theta}\\right) + \\operatorname{se}^2\\left(\\widehat{\\theta}\\right)\n",
    "$$"
   ]
  },
  {
   "cell_type": "markdown",
   "id": "e1d91477",
   "metadata": {
    "slideshow": {
     "slide_type": "slide"
    }
   },
   "source": [
    "## Example 2\n",
    "\n",
    "Example with restaurant. Consider simple sample $X_1, \\ldots, X_n \\sim Pois(\\lambda)$. We would like to estimate the parameter of Poisson distribution and we chose the following estimator:\n",
    "$$\n",
    "\\widehat{\\lambda} = \\frac1n \\sum_{k=1}^n X_k\n",
    "$$\n",
    "\n",
    "What would be its standard error?"
   ]
  },
  {
   "cell_type": "markdown",
   "id": "e2b146d2",
   "metadata": {
    "slideshow": {
     "slide_type": "slide"
    }
   },
   "source": [
    "## Solution 2\n",
    "\n",
    "$$\n",
    "\\mathbb{V}\\text{ar}\\left(\\widehat{\\lambda}\\right) = \\mathbb{E}\\left[\\widehat{\\lambda}^2\\right] - \\left( \\mathbb{E}\\left[\\widehat{\\lambda}\\right]\\right)^2\n",
    "$$\n",
    "\n",
    "$$\n",
    "\\begin{aligned}\n",
    "\\mathbb{E}\\left[\\widehat{\\lambda}^2\\right] & = \\mathbb{E}\\left[\\left( \\frac1n \\sum_{k=1}^n X_k \\right)^2\\right] = \\mathbb{E}\\left[\\frac{1}{n^2} \\sum_{k,m=1}^n X_k X_m\\right] = \\\\\n",
    "& = \\frac{1}{n^2} \\left( \\sum_{k=1}^n \\mathbb{E}\\left[X_k^2\\right] + \\sum_{k\\neq m} E[X_k] E[X_m] \\right) = \\\\\n",
    "& = \\frac{1}{n^2} \\left( n \\cdot (\\lambda^2 + \\lambda) + n (n-1) \\cdot \\lambda^2 \\right) = \\frac1n \\left( n \\lambda^2 + \\lambda\\right)\n",
    "\\end{aligned}\n",
    "$$\n",
    "\n",
    "$$\n",
    "\\operatorname{se}\\left(\\widehat{\\lambda}\\right) = \\sqrt{\\mathbb{V}\\text{ar}\\left(\\widehat{\\lambda}\\right)} = \\sqrt{\\frac1n \\left( n \\lambda^2 + \\lambda\\right) - \\lambda^2} = \\sqrt{\\lambda/n}\n",
    "$$"
   ]
  },
  {
   "cell_type": "markdown",
   "id": "ea036a0e",
   "metadata": {
    "slideshow": {
     "slide_type": "slide"
    }
   },
   "source": [
    "## Consistency and strong consistency\n",
    "\n",
    "An estiamtor $\\widehat{\\theta}$ is called consistent if\n",
    "$$\n",
    "\\widehat{\\theta} \\xrightarrow{P} \\theta\n",
    "$$\n",
    "\n",
    "What is the base of the limit? What type of convergence is it?\n",
    "\n",
    "An estiamtor $\\widehat{\\theta}$ is called strongly consistent if\n",
    "$$\n",
    "\\widehat{\\theta} \\xrightarrow{a.s.} \\theta\n",
    "$$\n",
    "\n",
    "What type of convergence is it?"
   ]
  },
  {
   "cell_type": "markdown",
   "id": "dee7cf37",
   "metadata": {
    "slideshow": {
     "slide_type": "slide"
    }
   },
   "source": [
    "## Example 3\n",
    "\n",
    "Example with restaurant. Consider simple sample $X_1, \\ldots, X_n \\sim Pois(\\lambda)$. We would like to estimate the parameter of Poisson distribution and we chose the following estimator:\n",
    "$$\n",
    "\\widehat{\\lambda} = \\frac1n \\sum_{k=1}^n X_k\n",
    "$$\n",
    "\n",
    "Is this estimator consistent?"
   ]
  },
  {
   "cell_type": "markdown",
   "id": "b91b92ac",
   "metadata": {
    "slideshow": {
     "slide_type": "slide"
    }
   },
   "source": [
    "## Solution 3\n",
    "\n",
    "As I hope everyone remembers, convergence in probability is that convergence in probability is the weakest of all, and follows from other types of convergence.\n",
    "\n",
    "We have $\\operatorname{bias}\\left(\\widehat{\\lambda}\\right) = 0$ and $\\operatorname{se}\\left(\\widehat{\\lambda}\\right) = \\sqrt{\\lambda/n}$. From bias-variance tradeoff, we can see that\n",
    "$$\n",
    "\\text{MSE}\\left(\\widehat{\\lambda}\\right) = \\operatorname{bias}^2\\left(\\widehat{\\lambda}\\right) + \\operatorname{se}^2\\left(\\widehat{\\lambda}\\right) = \\lambda/n\n",
    "$$\n",
    "\n",
    "We can see that $\\text{MSE}\\left(\\widehat{\\lambda}\\right) \\to 0$, as $n \\to \\infty$. This means convergence in mean-squared, and convergence in probability follows from it unconditionally.\n",
    "\n",
    "Strong consistency follows from strong LLN."
   ]
  }
 ],
 "metadata": {
  "celltoolbar": "Slideshow",
  "kernelspec": {
   "display_name": "Python 3 (ipykernel)",
   "language": "python",
   "name": "python3"
  },
  "language_info": {
   "codemirror_mode": {
    "name": "ipython",
    "version": 3
   },
   "file_extension": ".py",
   "mimetype": "text/x-python",
   "name": "python",
   "nbconvert_exporter": "python",
   "pygments_lexer": "ipython3",
   "version": "3.9.13"
  }
 },
 "nbformat": 4,
 "nbformat_minor": 5
}
