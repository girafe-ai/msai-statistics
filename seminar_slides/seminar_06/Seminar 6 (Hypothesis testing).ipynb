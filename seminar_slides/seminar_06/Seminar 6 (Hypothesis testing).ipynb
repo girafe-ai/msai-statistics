{
 "cells": [
  {
   "cell_type": "markdown",
   "id": "quiet-hamburg",
   "metadata": {
    "slideshow": {
     "slide_type": "slide"
    }
   },
   "source": [
    "# Kinds of tests"
   ]
  },
  {
   "cell_type": "markdown",
   "id": "bigger-deficit",
   "metadata": {
    "slideshow": {
     "slide_type": "slide"
    }
   },
   "source": [
    "## Kinds of tests\n",
    "\n",
    "By number of samples:\n",
    "- One-sample: just one sample. Example: testing whether a coin is symmetric (probability of success equals probability of failure).\n",
    "- Two-sample: two independent samples. Example: A/B testing.\n",
    "- Paired: two dependent samples. Example: treatment effect, when the same participants are tested more than once.\n",
    "\n",
    "By hypothesis type:\n",
    "- Non-parametric: either we know the distribution entirely (goodness-of-fit) or we test its parameters\n",
    "- Parametric: we know the distribution up to a **parametric** family of distributions"
   ]
  },
  {
   "cell_type": "markdown",
   "id": "developing-luxembourg",
   "metadata": {
    "slideshow": {
     "slide_type": "slide"
    }
   },
   "source": [
    "# Permutation test"
   ]
  },
  {
   "cell_type": "markdown",
   "id": "ranking-costs",
   "metadata": {
    "slideshow": {
     "slide_type": "slide"
    }
   },
   "source": [
    "## Permutation test\n",
    "\n",
    "Permutation test is a **non-parametric** **two-sample** test.\n",
    "\n",
    "Suppose that we have samples $X = (X_1, \\ldots, X_n) \\sim p(\\cdot)$ and $Y = (Y_1, \\ldots, Y_m) \\sim q(\\cdot)$. We'd like to test whether the samples come from the same distribution:\n",
    "$$\n",
    "H_0: p \\equiv q\n",
    "$$\n",
    "This test works with **any** test statistic $T(\\cdot)$. Denote the joined sample $Z = (X_1, \\ldots X_n, Y_1, \\ldots, Y_m)$. Intuitively, we would like to asses how likely it is to have the partition of $Z$ into $X$ and $Y$ the way it is observed.\n",
    "\n",
    "Let's shuffle $Z$ randomly and compute a statistic of the shuffled sample $T(\\tilde{Z})$. Let's do so for all possible permutations and collect $(n+m)!$ values of test statistics. Now, the p-value of the test will be simply the fraction of cases with a more extreme value of the statistic:\n",
    "$$\n",
    "p\\rm{-value} = \\frac{1}{(n+m)!} \\sum_{\\text{all permutations }\\tilde{Z} \\text{ of }Z} \\mathbb{I}\\rm{nd}\\left( T(\\tilde{Z}) > T(Z) \\right)\n",
    "$$\n",
    "\n",
    "- Advantages: non-parametric, any test statistic\n",
    "- Disadvantages: computationally hard"
   ]
  },
  {
   "cell_type": "code",
   "execution_count": 1,
   "id": "unknown-beverage",
   "metadata": {
    "slideshow": {
     "slide_type": "slide"
    }
   },
   "outputs": [],
   "source": [
    "import numpy as np\n",
    "import itertools as it\n",
    "from scipy.special import factorial"
   ]
  },
  {
   "cell_type": "code",
   "execution_count": 2,
   "id": "right-mississippi",
   "metadata": {
    "slideshow": {
     "slide_type": "fragment"
    }
   },
   "outputs": [],
   "source": [
    "X = np.array([0.225, 0.262, 0.217, 0.240, 0.230, 0.229, 0.235, 0.217])\n",
    "Y = np.array([0.209, 0.205, 0.196, 0.210, 0.202, 0.207, 0.224, 0.223, 0.220, 0.201])\n",
    "Z = np.concatenate([X, Y])\n",
    "\n",
    "n, m = len(X), len(Y)\n",
    "\n",
    "alpha = 0.05"
   ]
  },
  {
   "cell_type": "code",
   "execution_count": 3,
   "id": "civic-monroe",
   "metadata": {
    "slideshow": {
     "slide_type": "fragment"
    }
   },
   "outputs": [],
   "source": [
    "def T(z):\n",
    "    x, y = z[:, :n], z[:, n:]\n",
    "    x_mean, y_mean = np.mean(x, axis=1), np.mean(y, axis=1)\n",
    "    return np.abs(x_mean - y_mean)"
   ]
  },
  {
   "cell_type": "code",
   "execution_count": 4,
   "id": "otherwise-bangladesh",
   "metadata": {
    "slideshow": {
     "slide_type": "fragment"
    }
   },
   "outputs": [],
   "source": [
    "t_obs = T(np.expand_dims(Z, 0))"
   ]
  },
  {
   "cell_type": "code",
   "execution_count": 5,
   "id": "soviet-wealth",
   "metadata": {
    "slideshow": {
     "slide_type": "fragment"
    }
   },
   "outputs": [
    {
     "data": {
      "text/plain": [
       "6402373705728000.0"
      ]
     },
     "execution_count": 5,
     "metadata": {},
     "output_type": "execute_result"
    }
   ],
   "source": [
    "factorial(n + m)"
   ]
  },
  {
   "cell_type": "code",
   "execution_count": 6,
   "id": "endless-champion",
   "metadata": {
    "slideshow": {
     "slide_type": "fragment"
    }
   },
   "outputs": [
    {
     "name": "stdout",
     "output_type": "stream",
     "text": [
      "Rejected\n"
     ]
    }
   ],
   "source": [
    "B = 1e6\n",
    "permutations = []\n",
    "for i, permutation in enumerate(it.permutations(Z)):\n",
    "    permutations.append(permutation)\n",
    "    if i > B: break\n",
    "statistics = T(np.array(permutations))\n",
    "pvalue = np.sum(statistics > t_obs) / factorial(B)\n",
    "print(\"Rejected\" if pvalue < alpha else \"Not rejected\")"
   ]
  },
  {
   "cell_type": "markdown",
   "id": "ruled-cedar",
   "metadata": {
    "slideshow": {
     "slide_type": "slide"
    }
   },
   "source": [
    "# Multinomial test"
   ]
  },
  {
   "cell_type": "markdown",
   "id": "christian-catalog",
   "metadata": {
    "slideshow": {
     "slide_type": "slide"
    }
   },
   "source": [
    "## Multinomial test\n",
    "\n",
    "The multinomial test is the test of the null hypothesis that the parameters of a multinomial distribution equal specified values. It is a **one-sample** **non-parametric** test.\n",
    "\n",
    "Suppose that we have sample $X = (X_1, \\ldots, X_n) \\sim Mult(\\theta)$ with $k$ categories. We'd like to test whether our parameters $\\theta$ equal specified values:\n",
    "$$\n",
    "H_0: \\theta = \\theta_0\n",
    "$$\n",
    "The statistic for the test is simply the multinomial probability:\n",
    "$$\n",
    "T(X) = n! \\sum_{i=1}^k \\frac{\\theta_i^{X_i}}{X_i!}\n",
    "$$\n",
    "\n",
    "Now, the p-value of the test will be simply the probability of observing a sample (there is a finite number of possible multinomial samples of size $n$) less likely that the given one:\n",
    "$$\n",
    "p\\rm{-value} = \\sum_{Y: T(Y) \\leqslant T(X)} T(Y)\n",
    "$$\n",
    "\n",
    "- Advantages: non-parametric, simple\n",
    "- Disadvantages: computationally hard"
   ]
  },
  {
   "cell_type": "markdown",
   "id": "printable-teens",
   "metadata": {
    "slideshow": {
     "slide_type": "slide"
    }
   },
   "source": [
    "# Likelihood ratio test"
   ]
  },
  {
   "cell_type": "markdown",
   "id": "unusual-mississippi",
   "metadata": {
    "slideshow": {
     "slide_type": "slide"
    }
   },
   "source": [
    "## Likelihood ratio test\n",
    "\n",
    "Likelihood ratio test is a **parametric** **one-sample** test.\n",
    "\n",
    "Suppose that we have sample $X = (X_1, \\ldots, X_n) \\sim p(\\theta)$ and $\\theta \\in \\Theta$. We'd like to test wheter $\\theta$ belongs to a subset of $\\Theta$:\n",
    "$$\n",
    "\\begin{aligned}\n",
    "H_0 & : \\theta \\in \\Theta_0 \\subset \\Theta \\\\\n",
    "H_1 & : \\theta \\in \\Theta_1 = \\Theta \\backslash \\Theta_0\n",
    "\\end{aligned}\n",
    "$$\n",
    "\n",
    "The test statistic is given as follows (most common example, will lead to $\\chi^2$ distribution):\n",
    "$$\n",
    "\\lambda(X) = 2 \\log \\Lambda(X) = 2 \\log \\left( \\frac{\\sup\\limits_{\\theta \\in \\Theta} L(X, \\theta)}{\\sup\\limits_{\\theta \\in \\Theta_0} L(X, \\theta)} \\right) = 2 \\log \\left( \\frac{L(X, \\hat{\\theta}^{MLE})}{L(X, \\hat{\\theta}^{MLE}_{0})} \\right)\n",
    "$$\n",
    "\n",
    "We reject the null hypothesis, if $\\lambda(X) \\leqslant c$, where $c$ is defined from\n",
    "$$\n",
    "\\int\\limits_{y: \\lambda(y) \\leqslant c} L(x, \\theta) \\leqslant \\alpha\n",
    "$$\n",
    "\n",
    "Many tests can be derived from likelihood ratio test."
   ]
  },
  {
   "cell_type": "markdown",
   "id": "pacific-hypothetical",
   "metadata": {
    "slideshow": {
     "slide_type": "slide"
    }
   },
   "source": [
    "## Likelihood ratio test: example\n",
    "\n",
    "Suppose that we have sample $X = (X_1, \\ldots, X_n) \\sim \\mathcal{N}(\\theta_1, \\theta_2^2)$.\n",
    "$$\n",
    "\\begin{aligned}\n",
    "H_0 & : \\theta_1 = \\theta_{0} \\\\\n",
    "H_1 & : \\theta_1 \\neq \\theta_{0}\n",
    "\\end{aligned}\n",
    "$$\n",
    "We'l need to compute\n",
    "$$\n",
    "\\Lambda(X) = \\frac{L(X, \\hat{\\theta}^{MLE})}{L(X, \\hat{\\theta}^{MLE}_{0})}\n",
    "$$\n",
    "Numerator:\n",
    "$$\n",
    "\\begin{aligned}\n",
    "L(X, \\theta_1, \\theta_2) & = \\frac{1}{(2 \\pi)^{n/2} \\theta_2^n} \\exp \\left(- \\frac{1}{2 \\theta_2^2} \\sum_{i=1}^n (X_i - \\theta_1)^2 \\right) = \\\\\n",
    "& = \\frac{1}{(2 \\pi)^{n/2} \\theta_2^n} \\exp \\left(- \\frac{n}{2 \\theta_2^2} \\left(s^2 + (\\bar{X} - \\theta_1)^2 \\right) \\right)\n",
    "\\end{aligned}\n",
    "$$\n",
    "MLE estimates are $\\hat{\\theta}_1 = \\bar{X}, \\hat{\\theta}_2^2 = s^2$. The supremum of likelihood is:\n",
    "$$\n",
    "\\sup\\limits_{\\theta \\in \\Theta} L(X, \\theta_1, \\theta_2) = \\left( 2 \\pi e s^2\\right)^{-n/2}\n",
    "$$"
   ]
  },
  {
   "cell_type": "markdown",
   "id": "sound-constitution",
   "metadata": {
    "slideshow": {
     "slide_type": "slide"
    }
   },
   "source": [
    "## Likelihood ratio test: example\n",
    "\n",
    "Denominator:\n",
    "$$\n",
    "L(X, \\theta_1, \\theta_2) = \\frac{1}{(2 \\pi)^{n/2} \\theta_2^n} \\exp \\left(- \\frac{1}{2 \\theta_2^2} \\sum_{i=1}^n (X_i - \\theta_0)^2 \\right)\n",
    "$$\n",
    "\n",
    "MLE estimate is\n",
    "$$\n",
    "\\hat{\\theta}_2^2 = \\frac1n \\sum_{i=1}^n (X_i - \\theta_0)^2 = s_0^2\n",
    "$$\n",
    "\n",
    "The supremum of likelihood is:\n",
    "$$\n",
    "\\sup\\limits_{\\theta \\in \\Theta} L(X, \\theta_1, \\theta_2) = \\left( 2 \\pi e s_0^2\\right)^{-n/2}\n",
    "$$"
   ]
  },
  {
   "cell_type": "markdown",
   "id": "wrapped-marker",
   "metadata": {
    "slideshow": {
     "slide_type": "slide"
    }
   },
   "source": [
    "## Likelihood ratio test: example\n",
    "\n",
    "The statistic for this case will be $\\lambda(X) = \\Lambda(X)^{-1}$.\n",
    "$$\n",
    "\\lambda(X) = \\frac{\\left( 2 \\pi e s_0^2\\right)^{-n/2}}{\\left( 2 \\pi e s^2\\right)^{-n/2}} = \\left(\\frac{s^2 + (\\bar{X} - \\theta_0)^2}{s^2} \\right)^{-n/2}\n",
    "$$\n",
    "\n",
    "Note that $\\bar{X} \\sim \\mathcal{N}(\\theta_0, \\frac{\\theta_2^2}{n})$, therefore $\\frac{\\bar{X} - \\theta_0}{\\theta_2} \\sqrt{n} \\sim \\mathcal{N}(0, 1)$. Therefore,\n",
    "$$\n",
    "t^2 = \\left( \\frac{\\frac{\\bar{X} - \\theta_0}{\\theta_2} \\sqrt{n}}{\\sqrt{\\frac{\\frac{s^2}{\\theta_2^2}n}{n-1}}} \\right)^2 \\sim St(n-1)\n",
    "$$\n",
    "\n",
    "We have,\n",
    "$$\n",
    "\\lambda(X) = \\left(1 + \\frac{1}{n-1} t^2\\right)^{-n/2} \\leqslant c \\Leftrightarrow |t| \\geqslant \\tilde{c}\n",
    "$$"
   ]
  },
  {
   "cell_type": "markdown",
   "id": "simple-allocation",
   "metadata": {
    "slideshow": {
     "slide_type": "slide"
    }
   },
   "source": [
    "## Tests comparison for multinomial data\n",
    "\n",
    "1. Multinomial test: exact, works best on small samples, hard\n",
    "2. Likelihood ratio test: not exact, works best on large samples, produces type I errors (false positives), simplier\n",
    "3. Pearson $\\chi^2$ test: not exact, works best on medium-sized samples, produces type I errors (false positives), simplier"
   ]
  },
  {
   "cell_type": "markdown",
   "id": "expanded-organizer",
   "metadata": {
    "slideshow": {
     "slide_type": "slide"
    }
   },
   "source": [
    "# Student t-test"
   ]
  },
  {
   "cell_type": "markdown",
   "id": "athletic-miracle",
   "metadata": {
    "slideshow": {
     "slide_type": "slide"
    }
   },
   "source": [
    "## Student t-test\n",
    "\n",
    "It is a **parametric** test. There are all kinds of t-test: one-sample, two-sample, paired test. We'll cover one-sample test for now.\n",
    "\n",
    "Suppose that we have sample $X = (X_1, \\ldots, X_n) \\sim \\mathcal{N}(\\mu, \\sigma^2)$. We'd like to test wheter $\\mu$ equals a specified value:\n",
    "$$\n",
    "\\begin{aligned}\n",
    "H_0 & : \\mu = \\mu_0 \\\\\n",
    "H_1 & : \\mu \\neq \\mu_0\n",
    "\\end{aligned}\n",
    "$$\n",
    "\n",
    "The test statistic is given by\n",
    "$$\n",
    "T(X) = \\frac{\\bar{X} - \\mu_0}{S / \\sqrt{n}} \\sim St(n-1)\n",
    "$$"
   ]
  },
  {
   "cell_type": "code",
   "execution_count": 7,
   "id": "indie-history",
   "metadata": {
    "slideshow": {
     "slide_type": "slide"
    }
   },
   "outputs": [],
   "source": [
    "from sklearn.datasets import load_wine\n",
    "import pandas as pd"
   ]
  },
  {
   "cell_type": "code",
   "execution_count": 8,
   "id": "hindu-gender",
   "metadata": {
    "slideshow": {
     "slide_type": "fragment"
    }
   },
   "outputs": [],
   "source": [
    "wine = load_wine()\n",
    "df = pd.DataFrame(wine[\"data\"], columns=wine[\"feature_names\"])"
   ]
  },
  {
   "cell_type": "code",
   "execution_count": 9,
   "id": "raising-ethiopia",
   "metadata": {
    "slideshow": {
     "slide_type": "slide"
    }
   },
   "outputs": [
    {
     "data": {
      "text/html": [
       "<div>\n",
       "<style scoped>\n",
       "    .dataframe tbody tr th:only-of-type {\n",
       "        vertical-align: middle;\n",
       "    }\n",
       "\n",
       "    .dataframe tbody tr th {\n",
       "        vertical-align: top;\n",
       "    }\n",
       "\n",
       "    .dataframe thead th {\n",
       "        text-align: right;\n",
       "    }\n",
       "</style>\n",
       "<table border=\"1\" class=\"dataframe\">\n",
       "  <thead>\n",
       "    <tr style=\"text-align: right;\">\n",
       "      <th></th>\n",
       "      <th>alcohol</th>\n",
       "      <th>malic_acid</th>\n",
       "      <th>ash</th>\n",
       "      <th>alcalinity_of_ash</th>\n",
       "      <th>magnesium</th>\n",
       "      <th>total_phenols</th>\n",
       "      <th>flavanoids</th>\n",
       "      <th>nonflavanoid_phenols</th>\n",
       "      <th>proanthocyanins</th>\n",
       "      <th>color_intensity</th>\n",
       "      <th>hue</th>\n",
       "      <th>od280/od315_of_diluted_wines</th>\n",
       "      <th>proline</th>\n",
       "    </tr>\n",
       "  </thead>\n",
       "  <tbody>\n",
       "    <tr>\n",
       "      <th>0</th>\n",
       "      <td>14.23</td>\n",
       "      <td>1.71</td>\n",
       "      <td>2.43</td>\n",
       "      <td>15.6</td>\n",
       "      <td>127.0</td>\n",
       "      <td>2.80</td>\n",
       "      <td>3.06</td>\n",
       "      <td>0.28</td>\n",
       "      <td>2.29</td>\n",
       "      <td>5.64</td>\n",
       "      <td>1.04</td>\n",
       "      <td>3.92</td>\n",
       "      <td>1065.0</td>\n",
       "    </tr>\n",
       "    <tr>\n",
       "      <th>1</th>\n",
       "      <td>13.20</td>\n",
       "      <td>1.78</td>\n",
       "      <td>2.14</td>\n",
       "      <td>11.2</td>\n",
       "      <td>100.0</td>\n",
       "      <td>2.65</td>\n",
       "      <td>2.76</td>\n",
       "      <td>0.26</td>\n",
       "      <td>1.28</td>\n",
       "      <td>4.38</td>\n",
       "      <td>1.05</td>\n",
       "      <td>3.40</td>\n",
       "      <td>1050.0</td>\n",
       "    </tr>\n",
       "    <tr>\n",
       "      <th>2</th>\n",
       "      <td>13.16</td>\n",
       "      <td>2.36</td>\n",
       "      <td>2.67</td>\n",
       "      <td>18.6</td>\n",
       "      <td>101.0</td>\n",
       "      <td>2.80</td>\n",
       "      <td>3.24</td>\n",
       "      <td>0.30</td>\n",
       "      <td>2.81</td>\n",
       "      <td>5.68</td>\n",
       "      <td>1.03</td>\n",
       "      <td>3.17</td>\n",
       "      <td>1185.0</td>\n",
       "    </tr>\n",
       "    <tr>\n",
       "      <th>3</th>\n",
       "      <td>14.37</td>\n",
       "      <td>1.95</td>\n",
       "      <td>2.50</td>\n",
       "      <td>16.8</td>\n",
       "      <td>113.0</td>\n",
       "      <td>3.85</td>\n",
       "      <td>3.49</td>\n",
       "      <td>0.24</td>\n",
       "      <td>2.18</td>\n",
       "      <td>7.80</td>\n",
       "      <td>0.86</td>\n",
       "      <td>3.45</td>\n",
       "      <td>1480.0</td>\n",
       "    </tr>\n",
       "    <tr>\n",
       "      <th>4</th>\n",
       "      <td>13.24</td>\n",
       "      <td>2.59</td>\n",
       "      <td>2.87</td>\n",
       "      <td>21.0</td>\n",
       "      <td>118.0</td>\n",
       "      <td>2.80</td>\n",
       "      <td>2.69</td>\n",
       "      <td>0.39</td>\n",
       "      <td>1.82</td>\n",
       "      <td>4.32</td>\n",
       "      <td>1.04</td>\n",
       "      <td>2.93</td>\n",
       "      <td>735.0</td>\n",
       "    </tr>\n",
       "    <tr>\n",
       "      <th>...</th>\n",
       "      <td>...</td>\n",
       "      <td>...</td>\n",
       "      <td>...</td>\n",
       "      <td>...</td>\n",
       "      <td>...</td>\n",
       "      <td>...</td>\n",
       "      <td>...</td>\n",
       "      <td>...</td>\n",
       "      <td>...</td>\n",
       "      <td>...</td>\n",
       "      <td>...</td>\n",
       "      <td>...</td>\n",
       "      <td>...</td>\n",
       "    </tr>\n",
       "    <tr>\n",
       "      <th>173</th>\n",
       "      <td>13.71</td>\n",
       "      <td>5.65</td>\n",
       "      <td>2.45</td>\n",
       "      <td>20.5</td>\n",
       "      <td>95.0</td>\n",
       "      <td>1.68</td>\n",
       "      <td>0.61</td>\n",
       "      <td>0.52</td>\n",
       "      <td>1.06</td>\n",
       "      <td>7.70</td>\n",
       "      <td>0.64</td>\n",
       "      <td>1.74</td>\n",
       "      <td>740.0</td>\n",
       "    </tr>\n",
       "    <tr>\n",
       "      <th>174</th>\n",
       "      <td>13.40</td>\n",
       "      <td>3.91</td>\n",
       "      <td>2.48</td>\n",
       "      <td>23.0</td>\n",
       "      <td>102.0</td>\n",
       "      <td>1.80</td>\n",
       "      <td>0.75</td>\n",
       "      <td>0.43</td>\n",
       "      <td>1.41</td>\n",
       "      <td>7.30</td>\n",
       "      <td>0.70</td>\n",
       "      <td>1.56</td>\n",
       "      <td>750.0</td>\n",
       "    </tr>\n",
       "    <tr>\n",
       "      <th>175</th>\n",
       "      <td>13.27</td>\n",
       "      <td>4.28</td>\n",
       "      <td>2.26</td>\n",
       "      <td>20.0</td>\n",
       "      <td>120.0</td>\n",
       "      <td>1.59</td>\n",
       "      <td>0.69</td>\n",
       "      <td>0.43</td>\n",
       "      <td>1.35</td>\n",
       "      <td>10.20</td>\n",
       "      <td>0.59</td>\n",
       "      <td>1.56</td>\n",
       "      <td>835.0</td>\n",
       "    </tr>\n",
       "    <tr>\n",
       "      <th>176</th>\n",
       "      <td>13.17</td>\n",
       "      <td>2.59</td>\n",
       "      <td>2.37</td>\n",
       "      <td>20.0</td>\n",
       "      <td>120.0</td>\n",
       "      <td>1.65</td>\n",
       "      <td>0.68</td>\n",
       "      <td>0.53</td>\n",
       "      <td>1.46</td>\n",
       "      <td>9.30</td>\n",
       "      <td>0.60</td>\n",
       "      <td>1.62</td>\n",
       "      <td>840.0</td>\n",
       "    </tr>\n",
       "    <tr>\n",
       "      <th>177</th>\n",
       "      <td>14.13</td>\n",
       "      <td>4.10</td>\n",
       "      <td>2.74</td>\n",
       "      <td>24.5</td>\n",
       "      <td>96.0</td>\n",
       "      <td>2.05</td>\n",
       "      <td>0.76</td>\n",
       "      <td>0.56</td>\n",
       "      <td>1.35</td>\n",
       "      <td>9.20</td>\n",
       "      <td>0.61</td>\n",
       "      <td>1.60</td>\n",
       "      <td>560.0</td>\n",
       "    </tr>\n",
       "  </tbody>\n",
       "</table>\n",
       "<p>178 rows × 13 columns</p>\n",
       "</div>"
      ],
      "text/plain": [
       "     alcohol  malic_acid   ash  alcalinity_of_ash  magnesium  total_phenols  \\\n",
       "0      14.23        1.71  2.43               15.6      127.0           2.80   \n",
       "1      13.20        1.78  2.14               11.2      100.0           2.65   \n",
       "2      13.16        2.36  2.67               18.6      101.0           2.80   \n",
       "3      14.37        1.95  2.50               16.8      113.0           3.85   \n",
       "4      13.24        2.59  2.87               21.0      118.0           2.80   \n",
       "..       ...         ...   ...                ...        ...            ...   \n",
       "173    13.71        5.65  2.45               20.5       95.0           1.68   \n",
       "174    13.40        3.91  2.48               23.0      102.0           1.80   \n",
       "175    13.27        4.28  2.26               20.0      120.0           1.59   \n",
       "176    13.17        2.59  2.37               20.0      120.0           1.65   \n",
       "177    14.13        4.10  2.74               24.5       96.0           2.05   \n",
       "\n",
       "     flavanoids  nonflavanoid_phenols  proanthocyanins  color_intensity   hue  \\\n",
       "0          3.06                  0.28             2.29             5.64  1.04   \n",
       "1          2.76                  0.26             1.28             4.38  1.05   \n",
       "2          3.24                  0.30             2.81             5.68  1.03   \n",
       "3          3.49                  0.24             2.18             7.80  0.86   \n",
       "4          2.69                  0.39             1.82             4.32  1.04   \n",
       "..          ...                   ...              ...              ...   ...   \n",
       "173        0.61                  0.52             1.06             7.70  0.64   \n",
       "174        0.75                  0.43             1.41             7.30  0.70   \n",
       "175        0.69                  0.43             1.35            10.20  0.59   \n",
       "176        0.68                  0.53             1.46             9.30  0.60   \n",
       "177        0.76                  0.56             1.35             9.20  0.61   \n",
       "\n",
       "     od280/od315_of_diluted_wines  proline  \n",
       "0                            3.92   1065.0  \n",
       "1                            3.40   1050.0  \n",
       "2                            3.17   1185.0  \n",
       "3                            3.45   1480.0  \n",
       "4                            2.93    735.0  \n",
       "..                            ...      ...  \n",
       "173                          1.74    740.0  \n",
       "174                          1.56    750.0  \n",
       "175                          1.56    835.0  \n",
       "176                          1.62    840.0  \n",
       "177                          1.60    560.0  \n",
       "\n",
       "[178 rows x 13 columns]"
      ]
     },
     "execution_count": 9,
     "metadata": {},
     "output_type": "execute_result"
    }
   ],
   "source": [
    "df"
   ]
  },
  {
   "cell_type": "code",
   "execution_count": 10,
   "id": "marked-hotel",
   "metadata": {
    "slideshow": {
     "slide_type": "slide"
    }
   },
   "outputs": [
    {
     "data": {
      "text/plain": [
       "<AxesSubplot:ylabel='Frequency'>"
      ]
     },
     "execution_count": 10,
     "metadata": {},
     "output_type": "execute_result"
    },
    {
     "data": {
      "image/png": "[encoded data removed]",
      "text/plain": [
       "<Figure size 432x288 with 1 Axes>"
      ]
     },
     "metadata": {
      "needs_background": "light"
     },
     "output_type": "display_data"
    }
   ],
   "source": [
    "df[\"alcohol\"].plot.hist(bins=50)"
   ]
  },
  {
   "cell_type": "code",
   "execution_count": 11,
   "id": "fixed-expense",
   "metadata": {
    "slideshow": {
     "slide_type": "slide"
    }
   },
   "outputs": [],
   "source": [
    "import scipy.stats as sts"
   ]
  },
  {
   "cell_type": "code",
   "execution_count": 12,
   "id": "smaller-department",
   "metadata": {
    "slideshow": {
     "slide_type": "slide"
    }
   },
   "outputs": [
    {
     "name": "stdout",
     "output_type": "stream",
     "text": [
      "Not rejected\n"
     ]
    }
   ],
   "source": [
    "X = df[\"alcohol\"].values\n",
    "n = len(X)\n",
    "\n",
    "tdistr = sts.t(n-1)\n",
    "alpha = 0.05\n",
    "\n",
    "mu_0 = 13.0\n",
    "\n",
    "X_bar = X.mean()\n",
    "S = X.std(ddof=1)\n",
    "\n",
    "T = np.sqrt(n) * (X_bar - mu_0) / S\n",
    "pvalue = 2 * tdistr.sf(T)\n",
    "\n",
    "print(\"Rejected\" if pvalue < alpha else \"Not rejected\")"
   ]
  },
  {
   "cell_type": "code",
   "execution_count": 13,
   "id": "canadian-amount",
   "metadata": {
    "slideshow": {
     "slide_type": "fragment"
    }
   },
   "outputs": [],
   "source": [
    "res = sts.ttest_1samp(X, mu_0, alternative='two-sided')"
   ]
  },
  {
   "cell_type": "code",
   "execution_count": 14,
   "id": "direct-automation",
   "metadata": {
    "slideshow": {
     "slide_type": "fragment"
    }
   },
   "outputs": [
    {
     "name": "stdout",
     "output_type": "stream",
     "text": [
      "Not rejected\n"
     ]
    }
   ],
   "source": [
    "print(\"Rejected\" if res.pvalue < alpha else \"Not rejected\")"
   ]
  },
  {
   "cell_type": "markdown",
   "id": "directed-ideal",
   "metadata": {
    "slideshow": {
     "slide_type": "slide"
    }
   },
   "source": [
    "## Student t-test\n",
    "\n",
    "Suppose that we have samples $X = (X_1, \\ldots, X_n) \\sim \\mathcal{N}(\\mu_1, \\sigma_1^2)$ and $Y = (Y_1, \\ldots, Y_m) \\sim \\mathcal{N}(\\mu_2, \\sigma_2^2)$. We'd like to test whether the distributions of these samples share the same means:\n",
    "$$\n",
    "\\begin{aligned}\n",
    "H_0 & : \\mu_1 = \\mu_2 \\\\\n",
    "H_1 & : \\mu_1 \\neq \\mu_2\n",
    "\\end{aligned}\n",
    "$$\n",
    "\n",
    "The test statistic is given by\n",
    "$$\n",
    "T(X) = \\frac{\\bar{X} - \\bar{Y}}{\\sqrt{\\frac{S_1^2}{n} + \\frac{S_2^2}{m}}} \\sim St\\left(\\frac{\\left(\\frac{S_1^2}{n} + \\frac{S_2^2}{m}\\right)^2}{\\left(\\frac{S_1^2}{n}\\right)^2 \\frac{1}{n-1} + \\left(\\frac{S_2^2}{m}\\right)^2 \\frac{1}{m-1}}\\right)\n",
    "$$"
   ]
  },
  {
   "cell_type": "code",
   "execution_count": 15,
   "id": "promising-queen",
   "metadata": {
    "slideshow": {
     "slide_type": "slide"
    }
   },
   "outputs": [],
   "source": [
    "X = np.array([0.225, 0.262, 0.217, 0.240, 0.230, 0.229, 0.235, 0.217])\n",
    "Y = np.array([0.209, 0.205, 0.196, 0.210, 0.202, 0.207, 0.224, 0.223, 0.220, 0.201])\n",
    "\n",
    "alpha = 0.05"
   ]
  },
  {
   "cell_type": "code",
   "execution_count": 16,
   "id": "moderate-cooler",
   "metadata": {
    "slideshow": {
     "slide_type": "fragment"
    }
   },
   "outputs": [
    {
     "name": "stdout",
     "output_type": "stream",
     "text": [
      "Rejected\n"
     ]
    }
   ],
   "source": [
    "res = sts.ttest_ind(X, Y, equal_var=False)\n",
    "print(\"Rejected\" if res.pvalue < alpha else \"Not rejected\")"
   ]
  },
  {
   "cell_type": "markdown",
   "id": "subsequent-trace",
   "metadata": {
    "slideshow": {
     "slide_type": "slide"
    }
   },
   "source": [
    "# Wilcoxon signed-rank test"
   ]
  },
  {
   "cell_type": "markdown",
   "id": "necessary-muslim",
   "metadata": {
    "slideshow": {
     "slide_type": "slide"
    }
   },
   "source": [
    "## Wilcoxon signed-rank test\n",
    "\n",
    "It is a **non-parametric** **paired** test.\n",
    "\n",
    "Suppose that we have samples $X = (X_1, \\ldots, X_n) \\sim p(\\cdot)$ and $Y = (Y_1, \\ldots, Y_n) \\sim q(\\cdot)$. We'd like to test whether the distributions of these samples share the same means:\n",
    "$$\n",
    "\\begin{aligned}\n",
    "H_0 & : \\mu_1 = \\mu_2 \\\\\n",
    "H_1 & : \\mu_1 \\neq \\mu_2\n",
    "\\end{aligned}\n",
    "$$\n",
    "\n",
    "The statistic is:\n",
    "$$\n",
    "W(X, Y) = \\sum_{i=1}^{N_{r}} R_i \\cdot \\rm{sgn}(y_i - x_i)\n",
    "$$\n",
    "where $\\rm{sgn}(\\cdot)$ is signum function, $N_r$ is the corrected sample size (without samples with equal measurements), $R_i$ is the rank of the difference in ascending order.\n",
    "\n",
    "It follows a tabulated distribution."
   ]
  },
  {
   "cell_type": "code",
   "execution_count": 17,
   "id": "4d83f97a",
   "metadata": {
    "slideshow": {
     "slide_type": "slide"
    }
   },
   "outputs": [],
   "source": [
    "X = np.array([176, 163, 152, 155, 156, 178, 160, 164, 169, 155, 122, 144])\n",
    "Y = np.array([168, 215, 172, 200, 191, 197, 183, 174, 176, 155, 115, 163])"
   ]
  },
  {
   "cell_type": "code",
   "execution_count": 18,
   "id": "76a85006",
   "metadata": {
    "slideshow": {
     "slide_type": "fragment"
    }
   },
   "outputs": [
    {
     "data": {
      "text/plain": [
       "<AxesSubplot:ylabel='Frequency'>"
      ]
     },
     "execution_count": 18,
     "metadata": {},
     "output_type": "execute_result"
    },
    {
     "data": {
      "image/png": "[encoded data removed]",
      "text/plain": [
       "<Figure size 432x288 with 1 Axes>"
      ]
     },
     "metadata": {
      "needs_background": "light"
     },
     "output_type": "display_data"
    }
   ],
   "source": [
    "pd.DataFrame({\"X\": X, \"Y\": Y}).plot.hist(bins=20, alpha=0.3)"
   ]
  },
  {
   "cell_type": "code",
   "execution_count": 19,
   "id": "d41b9157",
   "metadata": {
    "slideshow": {
     "slide_type": "fragment"
    }
   },
   "outputs": [],
   "source": [
    "alpha = 0.05"
   ]
  },
  {
   "cell_type": "code",
   "execution_count": 20,
   "id": "2632b1d3",
   "metadata": {
    "slideshow": {
     "slide_type": "fragment"
    }
   },
   "outputs": [
    {
     "name": "stdout",
     "output_type": "stream",
     "text": [
      "Rejected\n"
     ]
    },
    {
     "name": "stderr",
     "output_type": "stream",
     "text": [
      "/Users/nickstulov/.virtualenvs/msai/lib/python3.8/site-packages/scipy/stats/morestats.py:3141: UserWarning: Exact p-value calculation does not work if there are ties. Switching to normal approximation.\n",
      "  warnings.warn(\"Exact p-value calculation does not work if there are \"\n"
     ]
    }
   ],
   "source": [
    "res = sts.wilcoxon(X, Y)\n",
    "print(\"Rejected\" if res.pvalue < alpha else \"Not rejected\")"
   ]
  },
  {
   "cell_type": "markdown",
   "id": "yellow-contemporary",
   "metadata": {
    "slideshow": {
     "slide_type": "slide"
    }
   },
   "source": [
    "# Multiple testing"
   ]
  },
  {
   "cell_type": "markdown",
   "id": "radio-minister",
   "metadata": {
    "slideshow": {
     "slide_type": "slide"
    }
   },
   "source": [
    "## Multiple testing\n",
    "\n",
    "Probability of making a mistake in one of $k$ tests with $\\alpha$ confidence level:\n",
    "$$\n",
    "1 - (1 - \\alpha)^k\n",
    "$$"
   ]
  },
  {
   "cell_type": "code",
   "execution_count": 22,
   "id": "wanted-dressing",
   "metadata": {
    "slideshow": {
     "slide_type": "fragment"
    }
   },
   "outputs": [
    {
     "name": "stdout",
     "output_type": "stream",
     "text": [
      "0.4012630607616213\n",
      "0.048889869534228136\n"
     ]
    }
   ],
   "source": [
    "alpha = 0.05\n",
    "print(1 - (1 - alpha) ** 10)\n",
    "print(1 - (1 - alpha / 10) ** 10)"
   ]
  }
 ],
 "metadata": {
  "celltoolbar": "Slideshow",
  "kernelspec": {
   "display_name": "Python 3 (ipykernel)",
   "language": "python",
   "name": "python3"
  },
  "language_info": {
   "codemirror_mode": {
    "name": "ipython",
    "version": 3
   },
   "file_extension": ".py",
   "mimetype": "text/x-python",
   "name": "python",
   "nbconvert_exporter": "python",
   "pygments_lexer": "ipython3",
   "version": "3.9.13"
  }
 },
 "nbformat": 4,
 "nbformat_minor": 5
}
