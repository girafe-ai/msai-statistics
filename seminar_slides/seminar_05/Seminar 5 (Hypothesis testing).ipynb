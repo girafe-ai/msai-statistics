{
 "cells": [
  {
   "cell_type": "markdown",
   "id": "scheduled-broadcasting",
   "metadata": {
    "slideshow": {
     "slide_type": "slide"
    }
   },
   "source": [
    "# Parameter estimation"
   ]
  },
  {
   "cell_type": "markdown",
   "id": "fantastic-request",
   "metadata": {
    "slideshow": {
     "slide_type": "slide"
    }
   },
   "source": [
    "## From parameter estimation to hypothesis testing\n",
    "\n",
    "Suppose that we have sample $X$, that follow the distribution with density $p(\\cdot)$, parametrized by (unknown) parameters $\\theta$ that we'd like to estimate from sample:\n",
    "$$\n",
    "p(X|\\theta) \\to \\max_\\theta\n",
    "$$\n",
    "\n",
    "Now let's turn it inside out. In the given setting, let's have a guess $\\theta_0$ of the parameters. Now, we can try to estimate the likelihood of observing our sample given these parameters. If the likelihood is high enough, we may assume that our guess is correct. This is the essence of hypothesis testing."
   ]
  },
  {
   "cell_type": "markdown",
   "id": "thermal-northern",
   "metadata": {
    "slideshow": {
     "slide_type": "slide"
    }
   },
   "source": [
    "# Hypothesis testing"
   ]
  },
  {
   "cell_type": "markdown",
   "id": "curious-jacob",
   "metadata": {
    "slideshow": {
     "slide_type": "slide"
    }
   },
   "source": [
    "## Hypotheses\n",
    "\n",
    "A hypothesis is any statement about sample:\n",
    "$$\n",
    "H_0: X \\sim p(\\cdot)\n",
    "$$\n",
    "1. Hypothesis $H_0$ is called null hypothesis.\n",
    "2. This is a simple hypothsis. There exist composite hypothesis, when the distribution is defined up to a family:\n",
    "$$\n",
    "H_0: X \\sim p(\\cdot) \\in \\mathcal{F} = \\{p_\\theta(\\cdot), \\theta \\in \\Theta\\}\n",
    "$$\n",
    "- Example: $H_0: X \\sim \\mathcal{N}(\\cdot, \\cdot)$\n",
    "3. We always have alternative hypothesis $H_1$ (one-sided or two-sided), which is the negation of null hypothesis."
   ]
  },
  {
   "cell_type": "markdown",
   "id": "extreme-brief",
   "metadata": {
    "slideshow": {
     "slide_type": "slide"
    }
   },
   "source": [
    "## Hypothesis testing\n",
    "\n",
    "Now, how do we define whether our guess is correct? We may go for the likelihood, but it does not give us an answer, just a number. We would like to have an instrument that will simply tell us, whether the guess is correct or not. This instrument is called hypothesis testing. We will introduce a decision (rejection) rule in the following form:\n",
    "$$\n",
    "\\varphi(X) = \\mathbb{I}\\rm{nd}\\{T(X) > c\\}\n",
    "$$\n",
    "where $T$ is a test statistic (replacement for likelihood) and $c$ is the statistic's critical value.\n",
    "\n",
    "Since the decision is a random variable itself, it will never be certain. There may be two types of errors:\n",
    "1. Reject null hypothesis when it's true (Type I)\n",
    "2. Accept null hypothesis when it's false (Type II)\n",
    "\n",
    "We'd like to limit the probability of Type I error with a (small) $\\alpha$ called confidence level.\n",
    "$$\n",
    "P(H_1|H_0) \\leqslant \\alpha\n",
    "$$\n",
    "\n",
    "The probability of not making Type II error is denoted $\\beta$ and is called test power.\n",
    "$$\n",
    "\\beta = P(H_1|H_1) = 1 - P(H_0|H_1)\n",
    "$$"
   ]
  },
  {
   "cell_type": "markdown",
   "id": "bright-reality",
   "metadata": {
    "slideshow": {
     "slide_type": "slide"
    }
   },
   "source": [
    "## Hypothesis testing\n",
    "\n",
    "Decision (rejection) rule:\n",
    "$$\n",
    "\\varphi(X) = \\mathbb{I}\\rm{nd}\\{T(X) > c\\}\n",
    "$$\n",
    "where $T$ is a test statistic (replacement for likelihood) and $c$ is the statistic's critical value.\n",
    "\n",
    "<img src=\"confidence_levels.png\" width=800px>"
   ]
  },
  {
   "cell_type": "markdown",
   "id": "unavailable-belle",
   "metadata": {
    "slideshow": {
     "slide_type": "slide"
    }
   },
   "source": [
    "## Hypothesis testing\n",
    "\n",
    "Decision (rejection) rule:\n",
    "$$\n",
    "\\varphi(X) = \\mathbb{I}\\rm{nd}\\{T(X) > c\\}\n",
    "$$\n",
    "where $T$ is a test statistic (replacement for likelihood) and $c$ is the statistic's critical value.\n",
    "\n",
    "<img src=\"error_types.png\" width=800px>"
   ]
  },
  {
   "cell_type": "markdown",
   "id": "understood-participant",
   "metadata": {
    "slideshow": {
     "slide_type": "slide"
    }
   },
   "source": [
    "## Hypothesis testing\n",
    "\n",
    "Decision (rejection) rule:\n",
    "$$\n",
    "\\varphi(X) = \\mathbb{I}\\rm{nd}\\{T(X) > c\\}\n",
    "$$\n",
    "where $T$ is a test statistic (replacement for likelihood) and $c$ is the statistic's critical value.\n",
    "\n",
    "Now, let's assume that we have performed two tests for two different null hypotheses, and both tests were successful. How do we determine, which hypothesis better describes the data?"
   ]
  },
  {
   "cell_type": "markdown",
   "id": "oriental-longitude",
   "metadata": {
    "slideshow": {
     "slide_type": "fragment"
    }
   },
   "source": [
    "<img src=\"p-values.png\" width=800px>"
   ]
  },
  {
   "cell_type": "markdown",
   "id": "competitive-channel",
   "metadata": {
    "slideshow": {
     "slide_type": "slide"
    }
   },
   "source": [
    "## Goodness-of-fit tests\n",
    "\n",
    "Let's focus on the following null hypothesis:\n",
    "$$\n",
    "H_0: X \\sim p(\\cdot)\n",
    "$$\n",
    "\n",
    "It's called a goodness-of-fit hypothesis. There are many goodness-of-fit tests:\n",
    "- Kolmogorov–Smirnov test\n",
    "- Chi-squared test\n",
    "- etc\n",
    "\n",
    "For a simple null hypothesis, these test will be non-parametric. Some of the tests also have a parametric variant for composite hypothesis.\n",
    "\n",
    "A test is fully defined by its statistic."
   ]
  },
  {
   "cell_type": "markdown",
   "id": "explicit-jenny",
   "metadata": {
    "slideshow": {
     "slide_type": "slide"
    }
   },
   "source": [
    "## Non-parametric $\\chi^2$-test\n",
    "\n",
    "Suppose that we have a sample $X = (x_1, x_2, \\ldots, x_n) \\in \\mathbb{R}$ of real numbers. Let's split the real line $\\mathbb{R}$ into $r$ intervals $\\Delta_i$ and let's count how many samples reside in each interval:\n",
    "$$\n",
    "\\nu_i = \\sum_k \\mathbb{I}\\rm{nd}\\{x_k \\in \\Delta_i\\}\n",
    "$$\n",
    "\n",
    "Let's make a goodness-of-fit test. We suppose that our sample is drawn from a distribution with density $p(\\cdot)$:\n",
    "$$\n",
    "H_0: X \\sim p(\\cdot)\n",
    "$$\n",
    "\n",
    "Now we are able to estimate the probabilities of a sample appearing in each interval under the null hypothesis:\n",
    "$$\n",
    "p_i = \\int_{\\Delta_i} p(x) \\rm{d} x\n",
    "$$\n",
    "\n",
    "Let's define $\\chi^2$-test statistic as\n",
    "$$\n",
    "T(X) = \\sum_{i=1}^r \\frac{\\left(\\nu_i - np_i\\right)^2}{np_i}\n",
    "$$\n"
   ]
  },
  {
   "cell_type": "markdown",
   "id": "hungry-syntax",
   "metadata": {
    "slideshow": {
     "slide_type": "slide"
    }
   },
   "source": [
    "## Non-parametric $\\chi^2$-test\n",
    "\n",
    "Let's define $\\chi^2$-test statistic as\n",
    "$$\n",
    "T(X) = \\sum_{i=1}^r \\frac{\\left(\\nu_i - np_i\\right)^2}{np_i}\n",
    "$$\n",
    "\n",
    "The claim is\n",
    "$$\n",
    "T(X) \\to^d_{n\\to\\infty} \\chi^2(r-1)\n",
    "$$"
   ]
  },
  {
   "cell_type": "markdown",
   "id": "outdoor-highway",
   "metadata": {
    "slideshow": {
     "slide_type": "slide"
    }
   },
   "source": [
    "## Example: dice\n",
    "\n",
    "Let's assume that we rolled the dice $n=72$ times and obtained the following results $\\nu_i$:\n",
    "\n",
    "| 1 | 2 | 3 | 4 | 5 | 6 |\n",
    "| --- | --- | --- | --- | --- | --- |\n",
    "| 9 | 20 | 14 | 8 | 11 | 10 |\n",
    "\n",
    "Let's test whether the dice is symmetric with confidence level $\\alpha = 0.01$. What is the null hypothesis?"
   ]
  },
  {
   "cell_type": "markdown",
   "id": "involved-awareness",
   "metadata": {
    "slideshow": {
     "slide_type": "fragment"
    }
   },
   "source": [
    "$$\n",
    "H_0: p_i = p = \\frac16, \\forall i\n",
    "$$"
   ]
  },
  {
   "cell_type": "markdown",
   "id": "minor-lottery",
   "metadata": {
    "slideshow": {
     "slide_type": "slide"
    }
   },
   "source": [
    "## Example: dice\n",
    "\n",
    "- $n = 72$\n",
    "- $\\alpha = 0.01$\n",
    "- $r = 6$\n",
    "\n",
    "$$\n",
    "\\begin{aligned}\n",
    "T & = \\sum_{i=1}^6 \\frac{\\left(\\nu_i - n p_i\\right)^2}{np_i} = \\\\\n",
    "& = \\frac{(9-12)^2 + (20-12)^2 + (14-12)^2 + (8-12)^2 + (11-12)^2 + (10-12)^2}{12} = \\frac{98}{12} = 8.16\n",
    "\\end{aligned}\n",
    "$$\n",
    "\n",
    "- $T(X) \\sim \\chi^2(r-1)$\n",
    "- $c_{0.01}^{\\chi^2(5)} = 15.086$ (believe me for now)\n",
    "\n",
    "In which part of the hypothesis \"space\" are we?"
   ]
  },
  {
   "cell_type": "markdown",
   "id": "soviet-script",
   "metadata": {
    "slideshow": {
     "slide_type": "fragment"
    }
   },
   "source": [
    "$$\n",
    "T(X) < c_{\\alpha} \\Longrightarrow \\text{we do not reject } H_0\n",
    "$$"
   ]
  },
  {
   "cell_type": "markdown",
   "id": "unable-relative",
   "metadata": {
    "slideshow": {
     "slide_type": "slide"
    }
   },
   "source": [
    "## Code"
   ]
  },
  {
   "cell_type": "code",
   "execution_count": 1,
   "id": "multiple-emerald",
   "metadata": {
    "slideshow": {
     "slide_type": "slide"
    }
   },
   "outputs": [],
   "source": [
    "import numpy as np\n",
    "import scipy.stats as sts"
   ]
  },
  {
   "cell_type": "code",
   "execution_count": 13,
   "id": "female-respondent",
   "metadata": {
    "slideshow": {
     "slide_type": "fragment"
    }
   },
   "outputs": [
    {
     "name": "stdout",
     "output_type": "stream",
     "text": [
      "Not rejected\n",
      "Not rejected\n"
     ]
    }
   ],
   "source": [
    "# data\n",
    "X = np.array([9, 20, 14, 8, 11, 10])\n",
    "n = X.sum()\n",
    "r = len(X)\n",
    "\n",
    "# H0\n",
    "p = 1/6\n",
    "\n",
    "# confidence level\n",
    "alpha = 0.01\n",
    "\n",
    "# critical value\n",
    "chisq = sts.chi2(r-1)\n",
    "c = chisq.isf(alpha)\n",
    "\n",
    "# test statistic\n",
    "T = np.sum((X - n * p) ** 2 / (n * p))\n",
    "\n",
    "# p-value\n",
    "pvalue = chisq.sf(T)\n",
    "\n",
    "print(\"Rejected\" if T > c else \"Not rejected\")\n",
    "print(\"Rejected\" if pvalue < alpha else \"Not rejected\")"
   ]
  },
  {
   "cell_type": "code",
   "execution_count": 15,
   "id": "heated-wallace",
   "metadata": {
    "slideshow": {
     "slide_type": "fragment"
    }
   },
   "outputs": [
    {
     "name": "stdout",
     "output_type": "stream",
     "text": [
      "Not rejected\n"
     ]
    }
   ],
   "source": [
    "result = sts.chisquare(X)\n",
    "print(\"Rejected\" if result.pvalue < alpha else \"Not rejected\")"
   ]
  },
  {
   "cell_type": "markdown",
   "id": "hazardous-center",
   "metadata": {
    "slideshow": {
     "slide_type": "slide"
    }
   },
   "source": [
    "## Parametric $\\chi^2$-test\n",
    "\n",
    "Same formulation: Suppose that we have a sample $X = (x_1, x_2, \\ldots, x_n) \\in \\mathbb{R}$ of real numbers. Let's split the real line $\\mathbb{R}$ into $r$ intervals $\\Delta_i$ and let's count how many samples reside in each interval:\n",
    "$$\n",
    "\\nu_i = \\sum_k \\mathbb{I}\\rm{nd}\\{x_k \\in \\Delta_i\\}\n",
    "$$\n",
    "\n",
    "Let's make a goodness-of-fit test. We suppose that our sample is drawn from a distribution with density $p(\\cdot)$, which is defined up to a family:\n",
    "$$\n",
    "H_0: X \\sim p(\\cdot) \\in \\mathcal{F} = \\{p(\\cdot, \\theta), \\theta \\in \\Theta \\in \\mathbb{R}^s\\}\n",
    "$$\n",
    "\n",
    "The test statistic is defined as\n",
    "$$\n",
    "T(X) = \\sum_{i=1}^r \\frac{\\left(\\nu_i - np_i(\\theta)\\right)^2}{np_i(\\theta)}\n",
    "$$\n",
    "\n",
    "The claim is:\n",
    "$$\n",
    "T(X) \\to^d_{n\\to\\infty} \\chi^2(r-s-1)\n",
    "$$"
   ]
  },
  {
   "cell_type": "markdown",
   "id": "perfect-holder",
   "metadata": {
    "slideshow": {
     "slide_type": "slide"
    }
   },
   "source": [
    "## Parametric $\\chi^2$-test\n",
    "\n",
    "The test statistic is defined as\n",
    "$$\n",
    "T(X) = \\sum_{i=1}^r \\frac{\\left(\\nu_i - np_i(\\theta)\\right)^2}{np_i(\\theta)}\n",
    "$$\n",
    "\n",
    "The claim is:\n",
    "$$\n",
    "T(X) \\to^d_{n\\to\\infty} \\chi^2(r-s-1)\n",
    "$$\n",
    "\n",
    "But where do we get $\\theta$ from?"
   ]
  },
  {
   "cell_type": "markdown",
   "id": "healthy-belarus",
   "metadata": {
    "slideshow": {
     "slide_type": "fragment"
    }
   },
   "source": [
    "We can take MLE. This will result (prove!) in:\n",
    "\n",
    "$$\n",
    "\\sum_{i=1}^r \\frac{\\nu_i}{p_i(\\theta)} \\frac{\\partial p_i(\\theta)}{\\partial \\theta_k}, \\; k \\in [1, s]\n",
    "$$"
   ]
  },
  {
   "cell_type": "markdown",
   "id": "danish-command",
   "metadata": {
    "slideshow": {
     "slide_type": "slide"
    }
   },
   "source": [
    "## Example\n",
    "\n",
    "Let's assume that we have the following data $\\nu_i$:\n",
    "\n",
    "| 0 | 1 | 2 | 3 | 4 | 5 | 6 | 7 | 8 | 9 |\n",
    "| --- | --- | --- | --- | --- | --- | --- | --- | --- | --- |\n",
    "| 5 | 8 | 6 | 12 | 14 | 18 | 11 | 6 | 18 | 7 |\n",
    "\n",
    "Let's test two hypotheses:\n",
    "1. $X \\sim DU\\{0,\\ldots,9\\}$\n",
    "2. $X \\sim \\mathcal{N}(\\cdot, \\cdot)$"
   ]
  },
  {
   "cell_type": "markdown",
   "id": "august-richmond",
   "metadata": {
    "slideshow": {
     "slide_type": "slide"
    }
   },
   "source": [
    "## Example: case 1\n",
    "\n",
    "Let's apply the non-parametric $\\chi^2$-test.\n",
    "\n",
    "- $n = 100$\n",
    "- $\\alpha = 0.01$\n",
    "- $r = 10$\n",
    "- $p_i = p = 0.1$\n",
    "\n",
    "$$\n",
    "\\begin{aligned}\n",
    "T & = \\sum_{i=1}^6 \\frac{\\left(\\nu_i - n p_i\\right)^2}{np_i} = \\\\\n",
    "& = \\frac{(5-10)^2 + (8-10)^2 + \\ldots + (7-10)^2}{10} = \\frac{164}{10} = 16.4\n",
    "\\end{aligned}\n",
    "$$\n",
    "\n",
    "- $T(X) \\sim \\chi^2(r-1)$\n",
    "- $p\\rm{-value} = 0.059$ (not rejected)"
   ]
  },
  {
   "cell_type": "markdown",
   "id": "comparative-aside",
   "metadata": {
    "slideshow": {
     "slide_type": "slide"
    }
   },
   "source": [
    "## Example: case 2\n",
    "\n",
    "Let's apply the parametric $\\chi^2$-test. Our unknown parameters are $\\theta = (\\mu, \\sigma^2)$. We will the optimal parameters through:\n",
    "$$\n",
    "\\sum_{i=1}^r \\frac{\\nu_i}{p_i(\\theta)} \\frac{\\partial p_i(\\theta)}{\\partial \\theta_k}, \\; k \\in [1, s]\n",
    "$$\n",
    "\n",
    "Here,\n",
    "$$\n",
    "p_i(\\theta) = \\int_{\\Delta_i} \\frac{1}{\\sqrt{2 \\pi \\sigma^2}} \\exp \\left( - \\frac{(x - \\mu)^2}{2 \\sigma^2} \\right) \\rm{d} x = \\int_{\\Delta_i} f(x) \\rm{d} x\n",
    "$$\n",
    "\n",
    "After a bit of lengthy calculation, we will obtain\n",
    "$$\n",
    "\\begin{cases}\n",
    "\\hat{\\mu} & = \\frac1n \\sum_{i=1}^r i \\nu_i, \\\\\n",
    "\\hat{\\sigma}^2 & = \\frac1n \\sum_{i=1}^r \\nu_i (i - \\hat{\\mu})^2.\n",
    "\\end{cases}\n",
    "$$"
   ]
  },
  {
   "cell_type": "markdown",
   "id": "liquid-gender",
   "metadata": {
    "slideshow": {
     "slide_type": "slide"
    }
   },
   "source": [
    "## Example: case 2\n",
    "\n",
    "Calculation yields $\\hat{\\mu} = 4.77, \\hat{\\sigma}^2 = 6.28$. Using this values and intervals $(-\\infty, 0.5], [0.5, 1.5], \\ldots, [7.5, 8.5], [8.5, +\\infty)$, we will obtain:\n",
    "\n",
    "| $p_0$ | $p_1$ | $p_2$ | $p_3$ | $p_4$ | $p_5$ | $p_6$ | $p_7$ | $p_8$ | $p_9$ |\n",
    "| --- | --- | --- | --- | --- | --- | --- | --- | --- | --- |\n",
    "| 0.058 | 0.062 | 0.098 | 0.133 | 0.154 | 0.154 | 0.131 | 0.096 | 0.059 | 0.055 |\n",
    "\n",
    "Then,\n",
    "$$\n",
    "T(X) = \\sum_{i=1}^r \\frac{\\left(\\nu_i - np_i(\\theta)\\right)^2}{np_i(\\theta)} = 13.13\n",
    "$$\n",
    "\n",
    "- $T(X) \\sim \\chi^2(r-s-1)$\n",
    "- $p\\rm{-value} = 0.069$ (not rejected)"
   ]
  },
  {
   "cell_type": "markdown",
   "id": "psychological-junction",
   "metadata": {
    "slideshow": {
     "slide_type": "slide"
    }
   },
   "source": [
    "## Example: comparison\n",
    "\n",
    "- Non-parametric $\\chi^2$-test gave us $p\\rm{-value} = p_1 = 0.059$ and $H_0: X \\sim DU\\{0,\\ldots,9\\}$ was not rejected for confidence level $\\alpha = 0.01$\n",
    "- Parametric $\\chi^2$-test gave us $p\\rm{-value} = p_2 = 0.069$ and $H_0: X \\sim \\mathcal{N}(\\cdot, \\cdot)$ was not rejected for confidence level $\\alpha = 0.01$\n",
    "\n",
    "Which hypothesis does the data support more?"
   ]
  },
  {
   "cell_type": "markdown",
   "id": "voluntary-direction",
   "metadata": {
    "slideshow": {
     "slide_type": "fragment"
    }
   },
   "source": [
    "$p_2 > p_1$, therefore the data is closer to second hypothesis $H_0: X \\sim \\mathcal{N}(\\cdot, \\cdot)$."
   ]
  }
 ],
 "metadata": {
  "celltoolbar": "Slideshow",
  "kernelspec": {
   "display_name": "Python 3 (ipykernel)",
   "language": "python",
   "name": "python3"
  },
  "language_info": {
   "codemirror_mode": {
    "name": "ipython",
    "version": 3
   },
   "file_extension": ".py",
   "mimetype": "text/x-python",
   "name": "python",
   "nbconvert_exporter": "python",
   "pygments_lexer": "ipython3",
   "version": "3.8.9"
  }
 },
 "nbformat": 4,
 "nbformat_minor": 5
}
