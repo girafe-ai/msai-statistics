{
 "cells": [
  {
   "cell_type": "markdown",
   "id": "e48534e5",
   "metadata": {
    "slideshow": {
     "slide_type": "slide"
    }
   },
   "source": [
    "# ECDF and Plug-In Estimator"
   ]
  },
  {
   "cell_type": "markdown",
   "id": "6d3f32ab",
   "metadata": {
    "slideshow": {
     "slide_type": "slide"
    }
   },
   "source": [
    "## Empirical Cumulative Distribution Function\n",
    "\n",
    "Consider simple sample $X_1, \\ldots, X_n \\sim F(x)$, where $F(x)$ is unknown and we'd like to come up with an estimate $\\widehat{F}(x)$ of it. We would like that estimate to be **unbiased** and **consistent**.\n",
    "\n",
    "Consider an estimate that is called the **empirical cumulative distribution function** (ECDF):\n",
    "$$\n",
    "\\widehat{F}(x) = \\frac1n \\sum_{k=1}^n \\mathbb{I}\\text{nd}\\{X_n \\leqslant x\\}\n",
    "$$\n",
    "where indicator function $\\mathbb{I}\\text{nd}\\{A\\} = 1$ if event $A$ is realized and $0$ otherwise.\n",
    "\n",
    "Is this estimate unbiased and consistent?\n",
    "- $\\mathbb{E}\\left[\\widehat{F}(x)\\right] = F(x)$?\n",
    "- $\\widehat{F}(x) \\xrightarrow{P} F(x)$?"
   ]
  },
  {
   "cell_type": "markdown",
   "id": "f882da46",
   "metadata": {
    "slideshow": {
     "slide_type": "slide"
    }
   },
   "source": [
    "## ECDF properties\n",
    "\n",
    "$$\n",
    "\\widehat{F}(x) = \\frac1n \\sum_{k=1}^n \\underbrace{\\mathbb{I}\\text{nd}\\{X_n \\leqslant x\\}}_{\\xi_k}\n",
    "$$\n",
    "\n",
    "What is the distribution of $\\xi_k$?"
   ]
  },
  {
   "cell_type": "markdown",
   "id": "9cf654af",
   "metadata": {
    "slideshow": {
     "slide_type": "fragment"
    }
   },
   "source": [
    "By definition, $\\xi_k \\sim Be(F(x))$ and, consequently, $n\\widehat{F}(x) \\sim Bin(n, F(x))$. What is the expected value and variance of binomial random variable?"
   ]
  },
  {
   "cell_type": "markdown",
   "id": "976f2a65",
   "metadata": {
    "slideshow": {
     "slide_type": "fragment"
    }
   },
   "source": [
    "- $\\mathbb{E}\\left[\\widehat{F}(x)\\right] = \\frac1n nF(x) = F(x)$ so ECDF is unbiased\n",
    "- $\\mathbb{V}\\text{ar}\\left(\\widehat{F}(x)\\right) = \\frac{1}{n^2} n F(x) (1 - F(x)) \\leqslant \\frac{1}{4n} \\to 0$ so ECDF is consistent"
   ]
  },
  {
   "cell_type": "markdown",
   "id": "ef2ffd54",
   "metadata": {
    "slideshow": {
     "slide_type": "slide"
    }
   },
   "source": [
    "## ECDF convergence\n",
    "\n",
    "We can estimate the speed of convergence from CLT:\n",
    "$$\n",
    "\\sqrt{n} \\frac{\\frac1n \\sum_{k=1}^n \\xi_k - \\mathbb{E}\\left[\\xi_k\\right]}{\\sqrt{\\mathbb{V}\\text{ar}\\left(\\xi_k\\right)}} \\xrightarrow{d} \\eta \\sim \\mathcal{N}(0, 1)\n",
    "$$"
   ]
  },
  {
   "cell_type": "markdown",
   "id": "cf1ac0f7",
   "metadata": {
    "slideshow": {
     "slide_type": "fragment"
    }
   },
   "source": [
    "$$\n",
    "\\sqrt{n} \\left(\\frac1n \\sum_{k=1}^n \\xi_k - \\mathbb{E}\\left[\\xi_k\\right]\\right) \\xrightarrow{d} \\sqrt{\\mathbb{V}\\text{ar}\\left(\\xi_k\\right)} \\eta \\sim \\mathcal{N}(0, \\mathbb{V}\\text{ar}\\left(\\xi_k\\right))\n",
    "$$"
   ]
  },
  {
   "cell_type": "markdown",
   "id": "f8e64c5f",
   "metadata": {
    "slideshow": {
     "slide_type": "fragment"
    }
   },
   "source": [
    "$$\n",
    "\\require{color}\n",
    "{\\color{red} \\sqrt{n}} \\left(\\widehat{F}(x) - F(x)\\right) \\xrightarrow{d} \\mathcal{N}(0, F(x)(1-F(x)))\n",
    "$$"
   ]
  },
  {
   "cell_type": "markdown",
   "id": "8de0d463",
   "metadata": {
    "slideshow": {
     "slide_type": "slide"
    }
   },
   "source": [
    "## ECDF uniform convergence\n",
    "\n",
    "Glivenko-Cantelli theorem:\n",
    "$$\n",
    "\\sup_x \\left|F(x) - \\widehat{F}(x)\\right| \\xrightarrow{a.s.} 0\n",
    "$$\n",
    "\n",
    "But how fast? **Kolmogorov's theorem**: If $F(x)$ is continuous, then\n",
    "$$\n",
    "\\require{color}\n",
    "D_n = {\\color{red} \\sqrt{n}} \\sup_x \\left|F(x) - \\widehat{F}(x)\\right| \\xrightarrow{d} \\eta \\sim K\n",
    "$$\n",
    "\n",
    "$$\n",
    "\\mathbb{P}(D_n \\leqslant z) \\to \\sum_{k=-\\infty}^\\infty (-1)^k e^{-2k^2z^2}\n",
    "$$\n",
    "\n",
    "$$\n",
    "\\mathbb{P}(D_n > z) \\leqslant 2 e^{-2nz^2}\n",
    "$$"
   ]
  },
  {
   "cell_type": "markdown",
   "id": "5bf2071e",
   "metadata": {
    "slideshow": {
     "slide_type": "slide"
    }
   },
   "source": [
    "## ECDF uniform covergence\n",
    "\n",
    "If $F(x)$ is continuous, then $\\sup_x \\left|F(x) - \\widehat{F}(x)\\right|$ does not depend on $F(\\cdot)$."
   ]
  },
  {
   "cell_type": "markdown",
   "id": "e3373a5d",
   "metadata": {
    "slideshow": {
     "slide_type": "slide"
    }
   },
   "source": [
    "## Proof\n",
    "\n",
    "$$\n",
    "\\sup_x \\left|\\widehat{F}(x)-F(x)\\right| = \\sup_x \\left|\\frac1n \\sum_{k=1}^n \\mathbb{I}\\text{nd}\\{X_i \\leqslant x\\}-F(x)\\right|\n",
    "$$"
   ]
  },
  {
   "cell_type": "markdown",
   "id": "59942b52",
   "metadata": {
    "slideshow": {
     "slide_type": "fragment"
    }
   },
   "source": [
    "$$\n",
    "= \\sup_x \\left|\\frac1n \\sum_{k=1}^n \\mathbb{I}\\text{nd}\\{F(X_i) \\leqslant F(x)\\}-\\underbrace{F(x)}_{z \\in [0,1]}\\right|\n",
    "$$"
   ]
  },
  {
   "cell_type": "markdown",
   "id": "71eecc0b",
   "metadata": {
    "slideshow": {
     "slide_type": "fragment"
    }
   },
   "source": [
    "$$\n",
    "= \\sup_z \\left|\\frac1n \\sum_{k=1}^n \\mathbb{I}\\text{nd}\\{\\underbrace{F(X_i)}_{?} \\leqslant z\\}-z\\right|\n",
    "$$"
   ]
  },
  {
   "cell_type": "markdown",
   "id": "db5ab878",
   "metadata": {
    "slideshow": {
     "slide_type": "fragment"
    }
   },
   "source": [
    "$$\n",
    "= \\sup_z \\left|\\frac1n \\sum_{k=1}^n \\mathbb{I}\\text{nd}\\{U \\leqslant z\\}-z\\right|\n",
    "$$"
   ]
  },
  {
   "cell_type": "markdown",
   "id": "c090b004",
   "metadata": {
    "slideshow": {
     "slide_type": "slide"
    }
   },
   "source": [
    "## Estimating functionals\n",
    "\n",
    "A statistical functional $T(F)$ is any functional of CDF $F$.\n",
    "\n",
    "A **linear functional** $T(F)$ can be written as:\n",
    "$$\n",
    "T(F) = \\int r(x) dF(x)\n",
    "$$\n",
    "\n",
    "A **plug-in** estimator $\\widehat{T}$ of $T(F)$ is\n",
    "$$\n",
    "\\widehat{T} = T\\left(\\widehat{F}\\right)\n",
    "$$\n",
    "\n",
    "A plug-in estimator $\\widehat{T}$ of **linear** $T(F)$ is\n",
    "$$\n",
    "\\widehat{T} = \\int r(x) d\\widehat{F}(x) = \\frac1n \\sum_{k=1}^n r(X_k)\n",
    "$$"
   ]
  },
  {
   "cell_type": "markdown",
   "id": "5c6fc62b",
   "metadata": {
    "slideshow": {
     "slide_type": "slide"
    }
   },
   "source": [
    "## Estimating mean\n",
    "\n",
    "Mean functional is:\n",
    "$$\n",
    "\\mu(F) = \\int x dF(x)\n",
    "$$\n",
    "\n",
    "So $r(x) = x$, and the plug-in estimator is\n",
    "$$\n",
    "\\widehat{\\mu} = \\frac1n \\sum_{k=1}^n X_k = \\overline{X}\n",
    "$$"
   ]
  },
  {
   "cell_type": "markdown",
   "id": "bfd78a22",
   "metadata": {
    "slideshow": {
     "slide_type": "slide"
    }
   },
   "source": [
    "## Estimating standard deviation\n",
    "\n",
    "Standard deviation functional is\n",
    "$$\n",
    "s(F) = \\int (x - \\mu)^2 dF(x)\n",
    "$$\n",
    "\n",
    "So $r(x) = (x - \\mu)^2$ and the plug-in estimator is\n",
    "$$\n",
    "\\widehat{\\sigma_1^2} = \\frac1n \\sum_{k=1}^n (X_k - \\mu)^2\n",
    "$$"
   ]
  },
  {
   "cell_type": "markdown",
   "id": "91d8f062",
   "metadata": {
    "slideshow": {
     "slide_type": "slide"
    }
   },
   "source": [
    "## Estimating standard deviation without the mean\n",
    "\n",
    "$$\n",
    "\\widehat{\\sigma_1^2} = \\frac1n \\sum_{k=1}^n (X_k - \\mu)^2\n",
    "$$\n",
    "\n",
    "$$\n",
    "\\widehat{\\sigma_2^2} = \\frac{1}{n-1} \\sum_{k=1}^n \\left(X_k - \\overline{X}\\right)^2 = s^2\n",
    "$$"
   ]
  },
  {
   "cell_type": "markdown",
   "id": "232cb518",
   "metadata": {
    "slideshow": {
     "slide_type": "slide"
    }
   },
   "source": [
    "## Properties of normal distribution\n",
    "\n",
    "Consider $X_1, \\ldots, X_n \\sim \\mathcal{N}(m, \\sigma^2)$. Then, $\\widehat{\\mu}, \\sigma_1^2$ and $\\sigma_2^2$ are unbiased consistent estimates."
   ]
  },
  {
   "cell_type": "markdown",
   "id": "e3e97929",
   "metadata": {
    "slideshow": {
     "slide_type": "slide"
    }
   },
   "source": [
    "## Proof 1\n",
    "\n",
    "If $X_1, \\ldots, X_n \\sim \\mathcal{N}(m, \\sigma^2)$, then $\\frac1n \\sum_{k=1}^n X_k \\sim ?$"
   ]
  },
  {
   "cell_type": "markdown",
   "id": "3f000fbd",
   "metadata": {
    "slideshow": {
     "slide_type": "fragment"
    }
   },
   "source": [
    "$$\n",
    "\\frac1n \\sum_{k=1}^n X_k \\sim \\mathcal{N}(m, \\frac{1}{n} \\sigma^2)\n",
    "$$\n",
    "\n",
    "So it is unbiased and consistent."
   ]
  },
  {
   "cell_type": "markdown",
   "id": "dcc410e8",
   "metadata": {
    "slideshow": {
     "slide_type": "slide"
    }
   },
   "source": [
    "## Proof 2\n",
    "\n",
    "$$\n",
    "\\widehat{\\sigma_1^2} = \\frac1n \\sum_{k=1}^n (X_k - m)^2\n",
    "$$\n",
    "\n",
    "$$\n",
    "\\mathbb{E}\\left[\\widehat{\\sigma_1^2}\\right] = \\mathbb{E}\\left[ \\frac1n \\sum_{k=1}^n (X_k - m)^2 \\right] = \\frac{\\sigma^2}{n} \\mathbb{E}\\left[ \\sum_{k=1}^n \\left(\\frac{X_k - m}{\\sigma}\\right)^2 \\right]\n",
    "$$\n",
    "\n",
    "$$\n",
    "\\eta = \\sum_{k=1}^n \\left(\\frac{X_k - m}{\\sigma}\\right)^2 \\sim ?\n",
    "$$"
   ]
  },
  {
   "cell_type": "markdown",
   "id": "6f4d523c",
   "metadata": {
    "slideshow": {
     "slide_type": "fragment"
    }
   },
   "source": [
    "$$\n",
    "\\eta = \\sum_{k=1}^n \\left(\\frac{X_k - m}{\\sigma}\\right)^2 \\sim \\chi^2(n)\n",
    "$$\n",
    "\n",
    "$$\n",
    "\\mathbb{E}[\\eta] = ?\n",
    "$$\n",
    "\n",
    "$$\n",
    "\\mathbb{V}\\text{ar}\\left(\\eta\\right) = ?\n",
    "$$"
   ]
  },
  {
   "cell_type": "markdown",
   "id": "42969c81",
   "metadata": {
    "slideshow": {
     "slide_type": "slide"
    }
   },
   "source": [
    "## Proof 2\n",
    "\n",
    "$$\n",
    "\\eta = \\sum_{k=1}^n \\left(\\frac{X_k - m}{\\sigma}\\right)^2 \\sim \\chi^2(n)\n",
    "$$\n",
    "\n",
    "$$\n",
    "\\mathbb{E}[\\eta] = n\n",
    "$$\n",
    "\n",
    "$$\n",
    "\\mathbb{V}\\text{ar}\\left(\\eta\\right) = 2n\n",
    "$$\n",
    "\n",
    "$$\n",
    "\\mathbb{E}\\left[\\widehat{\\sigma_1^2}\\right] = \\frac{\\sigma^2}{n} \\mathbb{E}\\left[ \\eta \\right] = \\frac{\\sigma^2}{n} n\n",
    "$$\n",
    "\n",
    "$$\n",
    "\\mathbb{V}\\text{ar}\\left(\\widehat{\\sigma_1^2}\\right) = \\frac{\\sigma^4}{n^2} \\mathbb{V}\\text{ar}\\left( \\eta \\right) = \\frac{\\sigma^4}{n^2} 2n\n",
    "$$"
   ]
  }
 ],
 "metadata": {
  "celltoolbar": "Slideshow",
  "kernelspec": {
   "display_name": "Python 3 (ipykernel)",
   "language": "python",
   "name": "python3"
  },
  "language_info": {
   "codemirror_mode": {
    "name": "ipython",
    "version": 3
   },
   "file_extension": ".py",
   "mimetype": "text/x-python",
   "name": "python",
   "nbconvert_exporter": "python",
   "pygments_lexer": "ipython3",
   "version": "3.8.9"
  }
 },
 "nbformat": 4,
 "nbformat_minor": 5
}
